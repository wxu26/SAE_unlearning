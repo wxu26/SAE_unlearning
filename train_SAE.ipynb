{
 "cells": [
  {
   "cell_type": "code",
   "execution_count": 1,
   "id": "ab10f637-35be-47a6-9501-4c7d9a4818df",
   "metadata": {
    "tags": []
   },
   "outputs": [],
   "source": [
    "import torch\n",
    "import torch.nn as nn\n",
    "import torch.nn.functional as F"
   ]
  },
  {
   "cell_type": "code",
   "execution_count": 2,
   "id": "10523642-094c-4656-869f-da90a64c436e",
   "metadata": {
    "tags": []
   },
   "outputs": [],
   "source": [
    "import numpy as np\n",
    "import matplotlib.pyplot as plt"
   ]
  },
  {
   "cell_type": "code",
   "execution_count": 3,
   "id": "ab11d52f-159e-4c2e-ba5a-d9e51a1d2bd6",
   "metadata": {
    "tags": []
   },
   "outputs": [],
   "source": [
    "import time"
   ]
  },
  {
   "cell_type": "code",
   "execution_count": 4,
   "id": "c78c1b6b-588d-4505-af3d-8de8fa6d49bd",
   "metadata": {
    "tags": []
   },
   "outputs": [],
   "source": [
    "DEVICE = 'cuda' if torch.cuda.is_available() else 'cpu'"
   ]
  },
  {
   "cell_type": "code",
   "execution_count": 5,
   "id": "7b45c6b1-d421-4e0a-a745-fd880c0f7f65",
   "metadata": {
    "tags": []
   },
   "outputs": [
    {
     "name": "stdout",
     "output_type": "stream",
     "text": [
      "sizes of train, val, test = 1003862, 55778, 55778\n",
      "vocab size = 66, unique chars:\n",
      "['\\n', ' ', '!', '\"', '$', '&', \"'\", ',', '-', '.', '3', ':', ';', '?', 'A', 'B', 'C', 'D', 'E', 'F', 'G', 'H', 'I', 'J', 'K', 'L', 'M', 'N', 'O', 'P', 'Q', 'R', 'S', 'T', 'U', 'V', 'W', 'X', 'Y', 'Z', 'a', 'b', 'c', 'd', 'e', 'f', 'g', 'h', 'i', 'j', 'k', 'l', 'm', 'n', 'o', 'p', 'q', 'r', 's', 't', 'u', 'v', 'w', 'x', 'y', 'z']\n"
     ]
    }
   ],
   "source": [
    "from model import config_default, model_data, TransformerModel, generate_from_model, validation"
   ]
  },
  {
   "cell_type": "code",
   "execution_count": 6,
   "id": "d21b02ea-c382-4af4-8858-70e83dbf9b12",
   "metadata": {
    "tags": []
   },
   "outputs": [
    {
     "data": {
      "text/plain": [
       "{'n_layer': 6,\n",
       " 'n_model': 256,\n",
       " 'n_ff': 1024,\n",
       " 'n_head': 8,\n",
       " 'head_size': 32,\n",
       " 'n_context': 256,\n",
       " 'n_token': 66,\n",
       " 'RoPE': True,\n",
       " 'dropout': 0.2,\n",
       " 'n_batch': 64,\n",
       " 'lr': 0.0003,\n",
       " 'weight_decay': 0.1,\n",
       " 'n_feature': 2048,\n",
       " 'lambda': 5,\n",
       " 'layer_for_SAE': 6}"
      ]
     },
     "execution_count": 6,
     "metadata": {},
     "output_type": "execute_result"
    }
   ],
   "source": [
    "config_default['n_feature'] = 2048\n",
    "config_default['lambda'] = 5 # regularization term in SAE loss\n",
    "config_default['layer_for_SAE'] = 6 # SAE after this layer\n",
    "config_default"
   ]
  },
  {
   "cell_type": "markdown",
   "id": "0bb71953-727b-44a6-8bfb-8977b23f6cec",
   "metadata": {},
   "source": [
    "# Try loading model"
   ]
  },
  {
   "cell_type": "code",
   "execution_count": 7,
   "id": "563a2528-3efc-47ac-b1e9-fcf04b93950d",
   "metadata": {
    "tags": []
   },
   "outputs": [],
   "source": [
    "DEFAULT_MODEL = \"model.10000.pth\""
   ]
  },
  {
   "cell_type": "code",
   "execution_count": 8,
   "id": "8b3464aa-9536-4c0a-810a-20b4689a98cd",
   "metadata": {
    "tags": []
   },
   "outputs": [],
   "source": [
    "if False:\n",
    "    model = TransformerModel()\n",
    "    model.to(DEVICE)\n",
    "    model.load_state_dict(torch.load(DEFAULT_MODEL))\n",
    "    _ = generate_from_model(model)\n",
    "    _ = validation(model, print_loss=True)"
   ]
  },
  {
   "cell_type": "markdown",
   "id": "e21cd6d2-f39a-4c88-9803-44171e87d5aa",
   "metadata": {},
   "source": [
    "# Sparse autoencoder"
   ]
  },
  {
   "cell_type": "code",
   "execution_count": 8,
   "id": "58c7ac6f-2f36-4789-96f4-801564dced07",
   "metadata": {
    "tags": []
   },
   "outputs": [],
   "source": [
    "class TransformerWithSAE(TransformerModel):\n",
    "    def __init__(self, config=config_default):\n",
    "        super().__init__()\n",
    "        # freeze old parameters\n",
    "        for p in self.parameters():\n",
    "            p.requires_grad = False\n",
    "        # switch to eval mode (this is mainly for dropout and does not affect SAE)\n",
    "        self.eval()\n",
    "        # SAE\n",
    "        self.W_enc = nn.Parameter(torch.randn(config['n_feature'], config['n_model'])/np.sqrt(config['n_model']))\n",
    "        self.W_dec = nn.Parameter(self.W_enc.data)\n",
    "        self.b_enc = nn.Parameter(torch.zeros(config['n_feature']))\n",
    "        self.b_dec = nn.Parameter(torch.zeros(config['n_model']))\n",
    "        # other SAE parameters\n",
    "        self.lam = config['lambda']\n",
    "        self.layer_for_SAE = config['layer_for_SAE']\n",
    "        self.scale_factor = 1 # should be updated by calling self.update_scale_factor()\n",
    "    def forward(self, t, y=None, SAE_loss=False):\n",
    "        \"\"\"\n",
    "        SAE loss:\n",
    "        determines whether to output feature amp + SAE loss\n",
    "        or logits + model loss (corss entropy with y)\n",
    "        (default to False so that model.generate() works properly)\n",
    "        \"\"\"\n",
    "        # run until SAE\n",
    "        x = self.embed(t)\n",
    "        x_in = self.layers[:self.layer_for_SAE](x) * self.scale_factor\n",
    "        # SAE\n",
    "        features = torch.einsum('...i,ji->...j',x_in,self.W_enc) + self.b_enc\n",
    "        features = F.relu(features)\n",
    "        x_out = torch.einsum('...i,ij->...j',features,self.W_dec) + self.b_dec\n",
    "        # SAE loss\n",
    "        if SAE_loss:\n",
    "            # loss function from here:\n",
    "            # https://transformer-circuits.pub/2024/april-update/index.html#training-saes\n",
    "            L2_loss = torch.sum((x_out-x_in)**2, axis=-1)\n",
    "            reuglarization = self.lam*torch.sum(features*torch.norm(self.W_dec,dim=-1), axis=-1) # feature is non-negative already\n",
    "            loss = torch.mean(L2_loss + reuglarization)\n",
    "            return features, loss\n",
    "        # after SAE\n",
    "        x = self.layers[self.layer_for_SAE:](x_out*(1./self.scale_factor))\n",
    "        x = self.final_norm(x)\n",
    "        logits = self.final_lin(x)\n",
    "        if y is None:\n",
    "            return logits, None\n",
    "        logits = logits.view(-1,self.n_token)\n",
    "        y = y.view(-1)\n",
    "        loss = F.cross_entropy(logits, y)\n",
    "        return logits, loss\n",
    "    @torch.no_grad()\n",
    "    def update_scale_factor(self, model_data=model_data, indices=range(256*1,256*(1+256*14),256*14)):\n",
    "        \"\"\"\n",
    "        draw a sample from model data and use it to compute scale factor\n",
    "        for reproducbility, the indices are fixed to 256 contexts (256*256 activations)\n",
    "        across the training set\n",
    "        \"\"\"\n",
    "        d = model_data.x_train\n",
    "        t = torch.stack([d[i:i+model_data.n_context] for i in indices])\n",
    "        x = self.embed(t)\n",
    "        x = self.layers[:self.layer_for_SAE](x)\n",
    "        # scale so that x^2 = n_model - so element-wise x_i^2 averages to 1\n",
    "        self.scale_factor = torch.mean(x**2).item()**-0.5\n",
    "        # print(f\"scale action by {self.scale_factor:.3e}\")\n",
    "        return"
   ]
  },
  {
   "cell_type": "code",
   "execution_count": 10,
   "id": "bcbaba2a-a546-4e8f-9222-b1c6fb199beb",
   "metadata": {
    "tags": []
   },
   "outputs": [],
   "source": [
    "# example usage\n",
    "if False:\n",
    "    SAEmodel = TransformerWithSAE()\n",
    "    SAEmodel.to(DEVICE)\n",
    "    SAEmodel.load_state_dict(torch.load(DEFAULT_MODEL), strict=False)\n",
    "    SAEmodel.update_scale_factor()\n",
    "    _ = generate_from_model(SAEmodel)"
   ]
  },
  {
   "cell_type": "markdown",
   "id": "07cda3ec-1201-4956-949d-75110bfec21a",
   "metadata": {},
   "source": [
    "# Training diagnostics"
   ]
  },
  {
   "cell_type": "code",
   "execution_count": 9,
   "id": "f94821bb-5d4d-4609-ad33-b8d0cb0608cd",
   "metadata": {
    "tags": []
   },
   "outputs": [],
   "source": [
    "def plot_performance(model, validation=True, **kwargs):\n",
    "    p,=plt.plot(model.losses, **kwargs)\n",
    "    if validation:\n",
    "        plt.plot(model.diag_epochs, model.diag_train_loss, ls='-', marker='.', color=p.get_color())\n",
    "        plt.plot(model.diag_epochs, model.diag_val_loss, ls=':', marker='.', color=p.get_color())\n",
    "    return"
   ]
  },
  {
   "cell_type": "code",
   "execution_count": 12,
   "id": "924aab56-b2cb-4c19-b700-3092dc0e7bf2",
   "metadata": {
    "tags": []
   },
   "outputs": [],
   "source": [
    "n_batch = 64\n",
    "lr = 3e-4\n",
    "def new_model(validation_interval=None, config=config_default):\n",
    "    model = TransformerWithSAE(config)\n",
    "    model.to(DEVICE)\n",
    "    model.load_state_dict(torch.load(DEFAULT_MODEL), strict=False)\n",
    "    model.update_scale_factor()\n",
    "    # print(f\"{np.sum([p.numel() for p in model.parameters() if p.requires_grad])/1e6:.4f}M parameters\")\n",
    "    # additional params\n",
    "    if validation_interval is None:\n",
    "        model.validation_interval = int(20 * 256/n_batch) # validation evaluation ~ 10% training evaluation\n",
    "    else:\n",
    "        model.validation_interval = validation_interval\n",
    "    model.total_time = 0\n",
    "    optimizer = torch.optim.Adam(model.parameters(),lr=lr)\n",
    "    return model, optimizer\n",
    "model, optimizer = new_model()"
   ]
  },
  {
   "cell_type": "code",
   "execution_count": 11,
   "id": "489ffd53-b6db-439a-ad4f-80116b190773",
   "metadata": {
    "tags": []
   },
   "outputs": [],
   "source": [
    "def training_loop(t_max=3600, n_max=1000, lam=5, n_lam=1, scheduler=None, clip=True):\n",
    "    t_start = time.time()\n",
    "    t_now = time.time()\n",
    "    for i in range(n_max):\n",
    "        if (t_now-t_start) > t_max: break\n",
    "        # validation\n",
    "        if model.validation_interval>0 and model.current_epoch%model.validation_interval==0:\n",
    "            model.lam = 0\n",
    "            tl, vl = validation(model, SAE_loss=True, print_loss=True)\n",
    "            model.diag_epochs.append(model.current_epoch)\n",
    "            model.diag_train_loss.append(tl)\n",
    "            model.diag_val_loss.append(vl)\n",
    "        model.lam = min(1., model.current_epoch/n_lam) * lam\n",
    "        x, y = model_data.draw(n_batch)\n",
    "        optimizer.zero_grad()\n",
    "        _, loss = model(x, y, SAE_loss=True)\n",
    "        loss.backward()\n",
    "        if clip:\n",
    "            torch.nn.utils.clip_grad_norm_(model.parameters(), 1.)\n",
    "        optimizer.step()\n",
    "        if scheduler is not None:\n",
    "            scheduler.step()\n",
    "        model.losses.append(loss.item())\n",
    "        model.current_epoch += 1\n",
    "        t_now = time.time()\n",
    "    model.total_time += t_now - t_start\n",
    "    print(f\"took {t_now - t_start:.2f}s, total time {model.total_time:.2f}s, current epoch {model.current_epoch}\")"
   ]
  },
  {
   "cell_type": "markdown",
   "id": "cbb0cddc-1933-4711-a9ed-0e2ae4682e0c",
   "metadata": {},
   "source": [
    "# Training\n",
    "After some tuning, it seems that the best option (given a target of finishing within 10K epochs) is to start from a lower learning rate without clipping, then switch to a higher learning rate with clipping. Tests suggest that batch size does not seem to matter too much. Maybe I should come back and train an SAE with 10x epochs and 10x lower learning rate. But maybe right now it's already close to an optimum since a few different treatments all converge to roughly the same plateau.\n",
    "\n",
    "Note on choice of $\\lambda$: assuming an equipartition between sparsity loss and L2 loss, we have the following relation: n_model * relative_mse ~ lambda * sqrt(n_model/n_active) where n_active is the typical number of simulatenously active features. So it is appropriate to choose a smaller $\\lambda$ for a less sparse model (i.e. larger n_active/n_model). And my model is likely less sparse than those trained on a more diverse corpus. So I'm reducing $\\lambda$ to 2."
   ]
  },
  {
   "cell_type": "code",
   "execution_count": 210,
   "id": "1c543a2e-978d-4cbd-856d-adb95779d34e",
   "metadata": {
    "tags": []
   },
   "outputs": [],
   "source": [
    "n_batch = 64\n",
    "lr = 3e-4\n",
    "model, optimizer = new_model(validation_interval=100)"
   ]
  },
  {
   "cell_type": "code",
   "execution_count": 211,
   "id": "64325890-5daa-43ea-9a4a-d8a22565e035",
   "metadata": {
    "collapsed": true,
    "jupyter": {
     "outputs_hidden": true
    },
    "tags": []
   },
   "outputs": [
    {
     "name": "stdout",
     "output_type": "stream",
     "text": [
      "epoch 0, train loss = 3065.2383, val loss = 3036.5217\n",
      "epoch 100, train loss = 108.0964, val loss = 107.3223\n",
      "epoch 200, train loss = 101.2931, val loss = 100.3644\n",
      "epoch 300, train loss = 97.8688, val loss = 94.8218\n",
      "epoch 400, train loss = 89.8758, val loss = 87.7279\n",
      "epoch 500, train loss = 83.9165, val loss = 82.4609\n",
      "epoch 600, train loss = 78.9971, val loss = 77.2773\n",
      "epoch 700, train loss = 75.4880, val loss = 73.5630\n",
      "epoch 800, train loss = 71.9116, val loss = 70.3291\n",
      "epoch 900, train loss = 68.8827, val loss = 67.3131\n",
      "epoch 1000, train loss = 66.2184, val loss = 64.5597\n",
      "epoch 1100, train loss = 63.6844, val loss = 62.1293\n",
      "epoch 1200, train loss = 61.1828, val loss = 59.7473\n",
      "epoch 1300, train loss = 58.9788, val loss = 58.0851\n",
      "epoch 1400, train loss = 57.1258, val loss = 56.0238\n",
      "epoch 1500, train loss = 55.7283, val loss = 54.5913\n",
      "epoch 1600, train loss = 54.2226, val loss = 52.8263\n",
      "epoch 1700, train loss = 52.5954, val loss = 51.6773\n",
      "epoch 1800, train loss = 51.6857, val loss = 50.5988\n",
      "epoch 1900, train loss = 50.6122, val loss = 49.5924\n",
      "took 85.73s, total time 85.73s, current epoch 2000\n"
     ]
    }
   ],
   "source": [
    "training_loop(n_max=2000, lam=2, n_lam=200, clip=False)"
   ]
  },
  {
   "cell_type": "code",
   "execution_count": 212,
   "id": "6f8438fa-3034-4137-9d90-8fca77861ea3",
   "metadata": {
    "collapsed": true,
    "jupyter": {
     "outputs_hidden": true
    },
    "tags": []
   },
   "outputs": [
    {
     "name": "stdout",
     "output_type": "stream",
     "text": [
      "epoch 2000, train loss = 49.4746, val loss = 47.9025\n",
      "epoch 2100, train loss = 34.6510, val loss = 34.4384\n",
      "epoch 2200, train loss = 31.1614, val loss = 31.4373\n",
      "epoch 2300, train loss = 29.0756, val loss = 29.7065\n",
      "epoch 2400, train loss = 28.2244, val loss = 28.8118\n",
      "epoch 2500, train loss = 27.5864, val loss = 28.3629\n",
      "epoch 2600, train loss = 26.9389, val loss = 27.5165\n",
      "epoch 2700, train loss = 27.0484, val loss = 27.8719\n",
      "epoch 2800, train loss = 26.6650, val loss = 27.3222\n",
      "epoch 2900, train loss = 25.9549, val loss = 26.9134\n",
      "epoch 3000, train loss = 26.3151, val loss = 27.0891\n",
      "epoch 3100, train loss = 25.4413, val loss = 26.3573\n",
      "epoch 3200, train loss = 26.5258, val loss = 27.4906\n",
      "epoch 3300, train loss = 26.2205, val loss = 27.1018\n",
      "epoch 3400, train loss = 25.8412, val loss = 26.7093\n",
      "epoch 3500, train loss = 25.9584, val loss = 26.8665\n",
      "epoch 3600, train loss = 25.5371, val loss = 26.2258\n",
      "epoch 3700, train loss = 25.1231, val loss = 25.7590\n",
      "epoch 3800, train loss = 25.4120, val loss = 26.2006\n",
      "epoch 3900, train loss = 24.8876, val loss = 25.8604\n",
      "epoch 4000, train loss = 25.2977, val loss = 26.1172\n",
      "epoch 4100, train loss = 25.1697, val loss = 26.1617\n",
      "epoch 4200, train loss = 24.7456, val loss = 25.7402\n",
      "epoch 4300, train loss = 24.6159, val loss = 25.8467\n",
      "epoch 4400, train loss = 25.1539, val loss = 26.3173\n",
      "epoch 4500, train loss = 24.8240, val loss = 25.8257\n",
      "epoch 4600, train loss = 25.4018, val loss = 26.3765\n",
      "epoch 4700, train loss = 24.8497, val loss = 25.9154\n",
      "epoch 4800, train loss = 24.4754, val loss = 25.2225\n",
      "epoch 4900, train loss = 24.8399, val loss = 25.8637\n",
      "epoch 5000, train loss = 24.3829, val loss = 25.3026\n",
      "epoch 5100, train loss = 24.5468, val loss = 25.5571\n",
      "epoch 5200, train loss = 24.5335, val loss = 25.4912\n",
      "epoch 5300, train loss = 24.3164, val loss = 25.1223\n",
      "epoch 5400, train loss = 24.4331, val loss = 25.5830\n",
      "epoch 5500, train loss = 24.9178, val loss = 26.0179\n",
      "epoch 5600, train loss = 23.8659, val loss = 25.1796\n",
      "epoch 5700, train loss = 24.0594, val loss = 25.2844\n",
      "epoch 5800, train loss = 24.5666, val loss = 25.6032\n",
      "epoch 5900, train loss = 24.2270, val loss = 25.4946\n",
      "epoch 6000, train loss = 24.4641, val loss = 25.7355\n",
      "epoch 6100, train loss = 23.8808, val loss = 25.1048\n",
      "epoch 6200, train loss = 24.4007, val loss = 25.5891\n",
      "epoch 6300, train loss = 24.3736, val loss = 25.3211\n",
      "epoch 6400, train loss = 24.2044, val loss = 25.3015\n",
      "epoch 6500, train loss = 23.4169, val loss = 24.6147\n",
      "epoch 6600, train loss = 24.3825, val loss = 25.3780\n",
      "epoch 6700, train loss = 23.7401, val loss = 24.8569\n",
      "epoch 6800, train loss = 23.6828, val loss = 25.0492\n",
      "epoch 6900, train loss = 24.4549, val loss = 25.3539\n",
      "epoch 7000, train loss = 23.9318, val loss = 25.1935\n",
      "epoch 7100, train loss = 23.6344, val loss = 24.8785\n",
      "epoch 7200, train loss = 23.8201, val loss = 24.9168\n",
      "epoch 7300, train loss = 23.7994, val loss = 25.3494\n",
      "epoch 7400, train loss = 23.6746, val loss = 25.0165\n",
      "epoch 7500, train loss = 23.6843, val loss = 24.9417\n",
      "epoch 7600, train loss = 23.7298, val loss = 25.0737\n",
      "epoch 7700, train loss = 23.8406, val loss = 25.0629\n",
      "epoch 7800, train loss = 23.5596, val loss = 24.8400\n",
      "epoch 7900, train loss = 23.6662, val loss = 25.0896\n",
      "epoch 8000, train loss = 23.7238, val loss = 24.7563\n",
      "epoch 8100, train loss = 23.1069, val loss = 24.5358\n",
      "epoch 8200, train loss = 23.5311, val loss = 24.5956\n",
      "epoch 8300, train loss = 24.1684, val loss = 25.6005\n",
      "epoch 8400, train loss = 24.0591, val loss = 25.2912\n",
      "epoch 8500, train loss = 23.8689, val loss = 25.2070\n",
      "epoch 8600, train loss = 23.5934, val loss = 25.0181\n",
      "epoch 8700, train loss = 23.7801, val loss = 25.2295\n",
      "epoch 8800, train loss = 23.5828, val loss = 24.8180\n",
      "epoch 8900, train loss = 23.1656, val loss = 24.2727\n",
      "epoch 9000, train loss = 24.0610, val loss = 25.3212\n",
      "epoch 9100, train loss = 23.4076, val loss = 24.7715\n",
      "epoch 9200, train loss = 23.3069, val loss = 24.7439\n",
      "epoch 9300, train loss = 23.8368, val loss = 25.1610\n",
      "epoch 9400, train loss = 23.2025, val loss = 24.3252\n",
      "epoch 9500, train loss = 23.6587, val loss = 24.7388\n",
      "epoch 9600, train loss = 23.6296, val loss = 25.0570\n",
      "epoch 9700, train loss = 23.7038, val loss = 25.0935\n",
      "epoch 9800, train loss = 23.6714, val loss = 25.2020\n",
      "epoch 9900, train loss = 23.6237, val loss = 24.8682\n",
      "took 348.80s, total time 434.53s, current epoch 10000\n"
     ]
    }
   ],
   "source": [
    "# switch to higher lr and clipped norm\n",
    "optimizer = torch.optim.Adam(model.parameters(), lr=1e-3)\n",
    "training_loop(n_max=8000, lam=2, n_lam=200, clip=True)"
   ]
  },
  {
   "cell_type": "code",
   "execution_count": 232,
   "id": "ca22fafd-6202-45ac-9bf9-69f6459f7047",
   "metadata": {
    "tags": []
   },
   "outputs": [
    {
     "data": {
      "text/plain": [
       "<matplotlib.legend.Legend at 0x14f658b680d0>"
      ]
     },
     "execution_count": 232,
     "metadata": {},
     "output_type": "execute_result"
    },
    {
     "data": {
      "image/png": "[encoded data removed]",
      "text/plain": [
       "<Figure size 640x480 with 1 Axes>"
      ]
     },
     "metadata": {},
     "output_type": "display_data"
    }
   ],
   "source": [
    "plot_performance(model)\n",
    "plt.ylim(0,200)\n",
    "plt.legend(['loss','L2 loss on train','L2 loss on val'])"
   ]
  },
  {
   "cell_type": "code",
   "execution_count": 217,
   "id": "c87b4b0f-614c-46e3-be04-f2e11985e70f",
   "metadata": {
    "tags": []
   },
   "outputs": [
    {
     "data": {
      "text/plain": [
       "(75.0, 85.0)"
      ]
     },
     "execution_count": 217,
     "metadata": {},
     "output_type": "execute_result"
    },
    {
     "data": {
      "image/png": "[encoded data removed]",
      "text/plain": [
       "<Figure size 800x300 with 2 Axes>"
      ]
     },
     "metadata": {},
     "output_type": "display_data"
    }
   ],
   "source": [
    "fig, ax = plt.subplots(1,2,figsize=(8,3))\n",
    "plt.sca(ax[0])\n",
    "plot_performance(model)\n",
    "plt.ylim(20,30)\n",
    "plt.sca(ax[1])\n",
    "plot_performance(model)\n",
    "plt.ylim(75,85)"
   ]
  },
  {
   "cell_type": "code",
   "execution_count": 227,
   "id": "dc06dae8-c6af-400b-bf55-7e978cd1009a",
   "metadata": {
    "tags": []
   },
   "outputs": [],
   "source": [
    "#torch.save(model.state_dict(), 'SAE_L6.10000.pth')"
   ]
  },
  {
   "cell_type": "markdown",
   "id": "9ac36587-0c7d-41a8-9102-560c5f684257",
   "metadata": {},
   "source": [
    "# Some basic diagnostics"
   ]
  },
  {
   "cell_type": "code",
   "execution_count": 233,
   "id": "8a833e66-e150-49dd-9321-6515ab12a7c9",
   "metadata": {
    "tags": []
   },
   "outputs": [
    {
     "name": "stdout",
     "output_type": "stream",
     "text": [
      "\u001b[37mnot:\n",
      "Sirrah young gamester, your father were a fool\n",
      "To give thee all, and in his waning age\n",
      "Set foot under thy table: tut, a toy!\n",
      "An old Italian fox is not so kind, my boy.\n",
      "\n",
      "TRANIO:\n",
      "A vengeance on your crafty wither'd hide!\n",
      "Yet I have faced it with a card \u001b[0man at cotenten your and\n",
      "Of counsin; then\n",
      "I he, resensit me thy sunse son, were to thy leary I\n",
      "Stably of very side are pie reme nor and honour?\n",
      "And descare her\n",
      "Touse hatr bloot atior unfather echaris wrate.\n",
      "Haris in droown 'Where the undeer,---\n",
      "It thit is should gone us to word, withal\n",
      "Ha then the good the faith, that some be-most sign.\n",
      "What father my toorse a man mand in of the bread!\n",
      "\n",
      "FLORIZENTH:\n",
      "O do folset else me are I ill a all bittter.\n",
      "\n",
      "LORD S:\n",
      "Mork withis Allace, his lookss, most saw bare may,\n",
      "Thou i\n"
     ]
    }
   ],
   "source": [
    "_ = generate_from_model(model)"
   ]
  },
  {
   "cell_type": "code",
   "execution_count": 234,
   "id": "6735bcfd-c053-45be-82be-5086132ecedf",
   "metadata": {
    "tags": []
   },
   "outputs": [
    {
     "name": "stdout",
     "output_type": "stream",
     "text": [
      "epoch 0, train loss = 1.2218, val loss = 1.4648\n",
      "epoch 10000, train loss = 1.4231, val loss = 1.6281\n"
     ]
    }
   ],
   "source": [
    "model_base = TransformerModel()\n",
    "model_base.to(DEVICE)\n",
    "model_base.load_state_dict(torch.load(DEFAULT_MODEL))\n",
    "\n",
    "_ = validation(model_base, print_loss=True)\n",
    "_ = validation(model, print_loss=True)"
   ]
  },
  {
   "cell_type": "code",
   "execution_count": 236,
   "id": "0da7665f-3ca9-44f7-87ca-3c292f731223",
   "metadata": {
    "tags": []
   },
   "outputs": [
    {
     "name": "stdout",
     "output_type": "stream",
     "text": [
      "percentage of loss recovered = 0.900\n"
     ]
    }
   ],
   "source": [
    "print(f\"percentage of loss recovered = {1.4648/1.6281:.3f}\")"
   ]
  },
  {
   "cell_type": "code",
   "execution_count": 237,
   "id": "ddee8b9d-38cc-4cbc-aee6-cf5d61dc7baa",
   "metadata": {
    "tags": []
   },
   "outputs": [],
   "source": [
    "x, y = model_data.draw(1024)\n",
    "features, loss = model(x, y, SAE_loss=True)\n",
    "features = features.cpu().detach().numpy()"
   ]
  },
  {
   "cell_type": "code",
   "execution_count": 241,
   "id": "93597147-2e92-43ff-b794-e7183af80583",
   "metadata": {
    "tags": []
   },
   "outputs": [
    {
     "data": {
      "image/png": "[encoded data removed]",
      "text/plain": [
       "<Figure size 640x480 with 1 Axes>"
      ]
     },
     "metadata": {},
     "output_type": "display_data"
    }
   ],
   "source": [
    "frequency = np.sum(features>0, axis=(0,1))/(features.shape[0]*features.shape[1])\n",
    "plt.hist(frequency, bins = np.logspace(-4,-1,100))\n",
    "plt.xlabel('feature frequency')\n",
    "plt.xscale('log')"
   ]
  },
  {
   "cell_type": "code",
   "execution_count": 242,
   "id": "fe7d2517-1e37-4eaa-82b4-78107081f00c",
   "metadata": {
    "tags": []
   },
   "outputs": [
    {
     "name": "stdout",
     "output_type": "stream",
     "text": [
      "1 dead features\n"
     ]
    }
   ],
   "source": [
    "print(f\"{np.sum(frequency==0)} dead features\")"
   ]
  },
  {
   "cell_type": "code",
   "execution_count": 244,
   "id": "cf4f486f-56fb-4965-8a78-87e6d8aace01",
   "metadata": {
    "tags": []
   },
   "outputs": [
    {
     "name": "stdout",
     "output_type": "stream",
     "text": [
      "20.07 active features on average\n"
     ]
    }
   ],
   "source": [
    "print(f\"{np.sum(frequency):.2f} active features on average\")"
   ]
  },
  {
   "cell_type": "code",
   "execution_count": 248,
   "id": "e28c9c68-2134-4ed0-94b9-6f351873a31c",
   "metadata": {
    "tags": []
   },
   "outputs": [
    {
     "data": {
      "text/plain": [
       "Text(0.5, 0, 'number of simultaneously active features')"
      ]
     },
     "execution_count": 248,
     "metadata": {},
     "output_type": "execute_result"
    },
    {
     "data": {
      "image/png": "[encoded data removed]",
      "text/plain": [
       "<Figure size 640x480 with 1 Axes>"
      ]
     },
     "metadata": {},
     "output_type": "display_data"
    }
   ],
   "source": [
    "n_active = np.sum(features>0, axis=-1).flatten()\n",
    "plt.hist(n_active, bins=np.arange(60))\n",
    "plt.xlabel('number of simultaneously active features')"
   ]
  },
  {
   "cell_type": "markdown",
   "id": "fcd7e21d-0226-40fe-b22c-8c8851fb8cfd",
   "metadata": {},
   "source": [
    "# Train another SAE at a different layer"
   ]
  },
  {
   "cell_type": "code",
   "execution_count": 13,
   "id": "19b128c2-dedd-4fa4-aea2-0fd98960587b",
   "metadata": {
    "tags": []
   },
   "outputs": [],
   "source": [
    "config = config_default.copy()\n",
    "config['layer_for_SAE'] = 3\n",
    "\n",
    "n_batch = 64\n",
    "lr = 3e-4\n",
    "model, optimizer = new_model(validation_interval=100, config=config)"
   ]
  },
  {
   "cell_type": "code",
   "execution_count": 14,
   "id": "55812938-856e-47cb-8861-fe4dd46e51ae",
   "metadata": {
    "collapsed": true,
    "jupyter": {
     "outputs_hidden": true
    },
    "tags": []
   },
   "outputs": [
    {
     "name": "stdout",
     "output_type": "stream",
     "text": [
      "epoch 0, train loss = 3094.7222, val loss = 3123.0186\n",
      "epoch 100, train loss = 47.6911, val loss = 47.7282\n",
      "epoch 200, train loss = 68.3878, val loss = 69.1619\n",
      "epoch 300, train loss = 56.1553, val loss = 57.1703\n",
      "epoch 400, train loss = 43.1496, val loss = 44.0311\n",
      "epoch 500, train loss = 34.1114, val loss = 34.7093\n",
      "epoch 600, train loss = 27.8820, val loss = 28.6265\n",
      "epoch 700, train loss = 23.4151, val loss = 24.0009\n",
      "epoch 800, train loss = 20.3409, val loss = 20.4950\n",
      "epoch 900, train loss = 17.6813, val loss = 18.1529\n",
      "epoch 1000, train loss = 16.0754, val loss = 16.3352\n",
      "epoch 1100, train loss = 15.0433, val loss = 15.0063\n",
      "epoch 1200, train loss = 14.1164, val loss = 14.1021\n",
      "epoch 1300, train loss = 13.1792, val loss = 13.2193\n",
      "epoch 1400, train loss = 12.7133, val loss = 12.8949\n",
      "epoch 1500, train loss = 11.9300, val loss = 12.1379\n",
      "epoch 1600, train loss = 11.5108, val loss = 11.4798\n",
      "epoch 1700, train loss = 11.1218, val loss = 11.1426\n",
      "epoch 1800, train loss = 10.6427, val loss = 10.6436\n",
      "epoch 1900, train loss = 10.4652, val loss = 10.3980\n",
      "took 52.93s, total time 52.93s, current epoch 2000\n"
     ]
    }
   ],
   "source": [
    "training_loop(n_max=2000, lam=2, n_lam=200, clip=False)"
   ]
  },
  {
   "cell_type": "code",
   "execution_count": 19,
   "id": "7801c57e-2964-4d1d-a344-64ddacb02c98",
   "metadata": {
    "collapsed": true,
    "jupyter": {
     "outputs_hidden": true
    },
    "tags": []
   },
   "outputs": [
    {
     "name": "stdout",
     "output_type": "stream",
     "text": [
      "epoch 2000, train loss = 9.9723, val loss = 9.9310\n",
      "epoch 2100, train loss = 7.2710, val loss = 7.3263\n",
      "epoch 2200, train loss = 6.2368, val loss = 6.2639\n",
      "epoch 2300, train loss = 5.9226, val loss = 5.9252\n",
      "epoch 2400, train loss = 5.6749, val loss = 5.7273\n",
      "epoch 2500, train loss = 5.3946, val loss = 5.4963\n",
      "epoch 2600, train loss = 5.2827, val loss = 5.2959\n",
      "epoch 2700, train loss = 5.3572, val loss = 5.3278\n",
      "epoch 2800, train loss = 5.3233, val loss = 5.3013\n",
      "epoch 2900, train loss = 5.2861, val loss = 5.3044\n",
      "epoch 3000, train loss = 5.0981, val loss = 5.1351\n",
      "epoch 3100, train loss = 5.1537, val loss = 5.1490\n",
      "epoch 3200, train loss = 5.2161, val loss = 5.1788\n",
      "epoch 3300, train loss = 5.0244, val loss = 5.0637\n",
      "epoch 3400, train loss = 5.0338, val loss = 5.2189\n",
      "epoch 3500, train loss = 5.1597, val loss = 5.1493\n",
      "epoch 3600, train loss = 5.1093, val loss = 5.1479\n",
      "epoch 3700, train loss = 5.0483, val loss = 5.0016\n",
      "epoch 3800, train loss = 5.2174, val loss = 5.1878\n",
      "epoch 3900, train loss = 5.0661, val loss = 5.1117\n",
      "epoch 4000, train loss = 4.9938, val loss = 5.0414\n",
      "epoch 4100, train loss = 4.8319, val loss = 4.9657\n",
      "epoch 4200, train loss = 4.8700, val loss = 4.9096\n",
      "epoch 4300, train loss = 4.8015, val loss = 4.8699\n",
      "epoch 4400, train loss = 5.0246, val loss = 4.9846\n",
      "epoch 4500, train loss = 5.1110, val loss = 5.0107\n",
      "epoch 4600, train loss = 4.9074, val loss = 5.1004\n",
      "epoch 4700, train loss = 4.9294, val loss = 4.9715\n",
      "epoch 4800, train loss = 4.8407, val loss = 4.8992\n",
      "epoch 4900, train loss = 5.0558, val loss = 5.0995\n",
      "epoch 5000, train loss = 5.1508, val loss = 5.1739\n",
      "epoch 5100, train loss = 5.0311, val loss = 5.0932\n",
      "epoch 5200, train loss = 4.8267, val loss = 4.9750\n",
      "epoch 5300, train loss = 5.1731, val loss = 5.2325\n",
      "epoch 5400, train loss = 5.1562, val loss = 5.2465\n",
      "epoch 5500, train loss = 4.8970, val loss = 4.9942\n",
      "epoch 5600, train loss = 4.9349, val loss = 4.7971\n",
      "epoch 5700, train loss = 4.8480, val loss = 4.9503\n",
      "epoch 5800, train loss = 5.0779, val loss = 5.1342\n",
      "epoch 5900, train loss = 5.2793, val loss = 5.0809\n",
      "epoch 6000, train loss = 5.0806, val loss = 5.1658\n",
      "epoch 6100, train loss = 5.0644, val loss = 5.2081\n",
      "epoch 6200, train loss = 5.0297, val loss = 5.1763\n",
      "epoch 6300, train loss = 5.2148, val loss = 5.3532\n",
      "epoch 6400, train loss = 5.1912, val loss = 5.1426\n",
      "epoch 6500, train loss = 5.0866, val loss = 5.1976\n",
      "epoch 6600, train loss = 5.1403, val loss = 5.3060\n",
      "epoch 6700, train loss = 5.1420, val loss = 5.2418\n",
      "epoch 6800, train loss = 5.1118, val loss = 5.1217\n",
      "epoch 6900, train loss = 5.2611, val loss = 5.3586\n",
      "epoch 7000, train loss = 5.4247, val loss = 5.3565\n",
      "epoch 7100, train loss = 5.2394, val loss = 5.2089\n",
      "epoch 7200, train loss = 5.1150, val loss = 5.0653\n",
      "epoch 7300, train loss = 5.2238, val loss = 5.1236\n",
      "epoch 7400, train loss = 5.1247, val loss = 5.2436\n",
      "epoch 7500, train loss = 5.0782, val loss = 5.1627\n",
      "epoch 7600, train loss = 5.4210, val loss = 5.5407\n",
      "epoch 7700, train loss = 5.2257, val loss = 5.3632\n",
      "epoch 7800, train loss = 5.5148, val loss = 5.4744\n",
      "epoch 7900, train loss = 5.2398, val loss = 5.2412\n",
      "epoch 8000, train loss = 5.3281, val loss = 5.2739\n",
      "epoch 8100, train loss = 5.4487, val loss = 5.4752\n",
      "epoch 8200, train loss = 5.3229, val loss = 5.3436\n",
      "epoch 8300, train loss = 5.5880, val loss = 5.5240\n",
      "epoch 8400, train loss = 5.3492, val loss = 5.4305\n",
      "epoch 8500, train loss = 5.3243, val loss = 5.3981\n",
      "epoch 8600, train loss = 5.4349, val loss = 5.3958\n",
      "epoch 8700, train loss = 5.4300, val loss = 5.3497\n",
      "epoch 8800, train loss = 5.3661, val loss = 5.3952\n",
      "epoch 8900, train loss = 5.3881, val loss = 5.3090\n",
      "epoch 9000, train loss = 5.3912, val loss = 5.4050\n",
      "epoch 9100, train loss = 5.1882, val loss = 5.3963\n",
      "epoch 9200, train loss = 5.3991, val loss = 5.5507\n",
      "epoch 9300, train loss = 5.4414, val loss = 5.4907\n",
      "epoch 9400, train loss = 5.4464, val loss = 5.3967\n",
      "epoch 9500, train loss = 5.4688, val loss = 5.3930\n",
      "epoch 9600, train loss = 5.3183, val loss = 5.4303\n",
      "epoch 9700, train loss = 5.3778, val loss = 5.4934\n",
      "epoch 9800, train loss = 5.5659, val loss = 5.5987\n",
      "epoch 9900, train loss = 5.5443, val loss = 5.6893\n",
      "took 214.73s, total time 267.66s, current epoch 10000\n"
     ]
    }
   ],
   "source": [
    "# switch to higher lr and clipped norm\n",
    "optimizer = torch.optim.Adam(model.parameters(), lr=1e-3)\n",
    "training_loop(n_max=8000, lam=2, n_lam=200, clip=True)"
   ]
  },
  {
   "cell_type": "code",
   "execution_count": 20,
   "id": "e3c9f724-9980-4651-91db-acd19fe8f9fd",
   "metadata": {
    "tags": []
   },
   "outputs": [
    {
     "data": {
      "text/plain": [
       "<matplotlib.legend.Legend at 0x1478333c8310>"
      ]
     },
     "execution_count": 20,
     "metadata": {},
     "output_type": "execute_result"
    },
    {
     "data": {
      "image/png": "[encoded data removed]",
      "text/plain": [
       "<Figure size 640x480 with 1 Axes>"
      ]
     },
     "metadata": {},
     "output_type": "display_data"
    }
   ],
   "source": [
    "plot_performance(model)\n",
    "plt.ylim(0,200)\n",
    "plt.legend(['loss','L2 loss on train','L2 loss on val'])"
   ]
  },
  {
   "cell_type": "code",
   "execution_count": 22,
   "id": "a12451ad-964c-46b0-a370-0cad1f2929e3",
   "metadata": {
    "tags": []
   },
   "outputs": [
    {
     "data": {
      "text/plain": [
       "(40.0, 50.0)"
      ]
     },
     "execution_count": 22,
     "metadata": {},
     "output_type": "execute_result"
    },
    {
     "data": {
      "image/png": "[encoded data removed]",
      "text/plain": [
       "<Figure size 800x300 with 2 Axes>"
      ]
     },
     "metadata": {},
     "output_type": "display_data"
    }
   ],
   "source": [
    "fig, ax = plt.subplots(1,2,figsize=(8,3))\n",
    "plt.sca(ax[0])\n",
    "plot_performance(model)\n",
    "plt.ylim(3,10)\n",
    "plt.sca(ax[1])\n",
    "plot_performance(model)\n",
    "plt.ylim(40,50)"
   ]
  },
  {
   "cell_type": "code",
   "execution_count": 25,
   "id": "26e7620f-be79-484a-873e-99fcabc8a222",
   "metadata": {
    "tags": []
   },
   "outputs": [],
   "source": [
    "#torch.save(model.state_dict(), 'SAE_L3.10000.pth')"
   ]
  },
  {
   "cell_type": "code",
   "execution_count": 23,
   "id": "2369972d-afa6-4c1d-bada-0ea6dffb4d67",
   "metadata": {
    "tags": []
   },
   "outputs": [
    {
     "name": "stdout",
     "output_type": "stream",
     "text": [
      "708 dead features\n",
      "10.62 active features on average\n"
     ]
    }
   ],
   "source": [
    "x, y = model_data.draw(1024)\n",
    "features, loss = model(x, y, SAE_loss=True)\n",
    "features = features.cpu().detach().numpy()\n",
    "frequency = np.sum(features>0, axis=(0,1))/(features.shape[0]*features.shape[1])\n",
    "print(f\"{np.sum(frequency==0)} dead features\")\n",
    "print(f\"{np.sum(frequency):.2f} active features on average\")"
   ]
  },
  {
   "cell_type": "code",
   "execution_count": 24,
   "id": "075ce709-bdef-43a5-90d3-f98e5c247b05",
   "metadata": {
    "tags": []
   },
   "outputs": [
    {
     "name": "stdout",
     "output_type": "stream",
     "text": [
      "epoch 0, train loss = 1.2308, val loss = 1.4908\n",
      "epoch 10000, train loss = 1.3452, val loss = 1.5622\n"
     ]
    }
   ],
   "source": [
    "model_base = TransformerModel()\n",
    "model_base.to(DEVICE)\n",
    "model_base.load_state_dict(torch.load(DEFAULT_MODEL))\n",
    "\n",
    "_ = validation(model_base, print_loss=True)\n",
    "_ = validation(model, print_loss=True)"
   ]
  },
  {
   "cell_type": "code",
   "execution_count": null,
   "id": "5bd8ee90-f09f-4c16-a049-d29400971a0a",
   "metadata": {},
   "outputs": [],
   "source": []
  }
 ],
 "metadata": {
  "kernelspec": {
   "display_name": "Python 3 (ipykernel)",
   "language": "python",
   "name": "python3"
  },
  "language_info": {
   "codemirror_mode": {
    "name": "ipython",
    "version": 3
   },
   "file_extension": ".py",
   "mimetype": "text/x-python",
   "name": "python",
   "nbconvert_exporter": "python",
   "pygments_lexer": "ipython3",
   "version": "3.10.13"
  }
 },
 "nbformat": 4,
 "nbformat_minor": 5
}
