{
 "cells": [
  {
   "cell_type": "markdown",
   "id": "318ddcd3-0dd2-44c6-8713-a18a0384506f",
   "metadata": {},
   "source": [
    "# This model: build a simple transformer and train it"
   ]
  },
  {
   "cell_type": "code",
   "execution_count": 1,
   "id": "dfae2b3c-0340-42f9-8172-ede755b19493",
   "metadata": {
    "tags": []
   },
   "outputs": [],
   "source": [
    "import torch\n",
    "import torch.nn as nn\n",
    "import torch.nn.functional as F"
   ]
  },
  {
   "cell_type": "code",
   "execution_count": 2,
   "id": "71bf858e-b41e-497d-a8a9-4083665ba9cc",
   "metadata": {
    "tags": []
   },
   "outputs": [],
   "source": [
    "import numpy as np\n",
    "import matplotlib.pyplot as plt"
   ]
  },
  {
   "cell_type": "code",
   "execution_count": 3,
   "id": "f84407e3-4e66-4f63-b5f6-b04a59001da5",
   "metadata": {
    "tags": []
   },
   "outputs": [],
   "source": [
    "DEVICE = 'cuda' if torch.cuda.is_available() else 'cpu'"
   ]
  },
  {
   "cell_type": "code",
   "execution_count": 4,
   "id": "7538da68-5fad-4d91-893b-f126cfb12d56",
   "metadata": {
    "tags": []
   },
   "outputs": [],
   "source": [
    "config_default = {\n",
    "    'n_layer':4,\n",
    "    'n_model':128,\n",
    "    'n_ff':256,\n",
    "    'n_head':8,\n",
    "    'head_size':16, # fix head_size * n_head = n_model; also needs to be even for RoPE\n",
    "    'n_context':256,\n",
    "    'n_token':66, # come from data\n",
    "    'RoPE':True, # fix this at Ture because other embeddings have not been impplemented yet\n",
    "    'dropout':0.1,\n",
    "}"
   ]
  },
  {
   "cell_type": "code",
   "execution_count": 5,
   "id": "1dd8e10f-2bd3-47cd-9f01-a5c360c2b5dd",
   "metadata": {
    "tags": []
   },
   "outputs": [],
   "source": [
    "SANITY_CHECK = True"
   ]
  },
  {
   "cell_type": "markdown",
   "id": "98c984b5-cbe6-4a51-8d93-00bde264c699",
   "metadata": {},
   "source": [
    "# Model"
   ]
  },
  {
   "cell_type": "code",
   "execution_count": 6,
   "id": "8a0a58e4-1ab6-4770-ba85-8e82789b5325",
   "metadata": {
    "tags": []
   },
   "outputs": [],
   "source": [
    "class Head(nn.Module):\n",
    "    \"\"\"\n",
    "    standard attenstion head (position embedding done before head)\n",
    "    \"\"\"\n",
    "    def __init__(self, config=config_default):\n",
    "        super().__init__()\n",
    "        self.n_model = config['n_model']\n",
    "        self.n_head = config['n_head']\n",
    "        self.head_size = config['head_size']\n",
    "        self.n_context = config['n_context']\n",
    "        self.K = nn.Linear(self.n_model, self.head_size ,bias=False)\n",
    "        self.Q = nn.Linear(self.n_model, self.head_size ,bias=False)\n",
    "        self.V = nn.Linear(self.n_model, self.head_size ,bias=False)\n",
    "        self.register_buffer('mask', \n",
    "          torch.triu(torch.full((self.n_context,self.n_context), float('-inf')), diagonal=1))\n",
    "          # used for masking attention weights\n",
    "    def forward(self, x):\n",
    "        # x: (..., n_context, n_model)\n",
    "        k = self.K(x) #  (..., n_context, head_size)\n",
    "        q = self.K(x)\n",
    "        v = self.K(x)\n",
    "        w = torch.einsum('...ik, ...jk -> ...ij', k, q) * self.head_size**-0.5 # (..., n_context, n_context)\n",
    "        # mask upper half with -inf (will become zero in softmax)\n",
    "        w = w+self.mask\n",
    "        w = F.softmax(w, dim=-1)\n",
    "        out = torch.einsum('...ij, ...jk -> ...ik', w, v) #  (..., n_context, head_size)\n",
    "        return out"
   ]
  },
  {
   "cell_type": "code",
   "execution_count": 7,
   "id": "eb67598d-8523-448e-afcd-b27c76aefaf9",
   "metadata": {
    "tags": []
   },
   "outputs": [
    {
     "name": "stdout",
     "output_type": "stream",
     "text": [
      "torch.Size([8, 256, 16])\n",
      "tensor([[0., -inf, -inf, -inf, -inf],\n",
      "        [0., 0., -inf, -inf, -inf],\n",
      "        [0., 0., 0., -inf, -inf],\n",
      "        [0., 0., 0., 0., -inf],\n",
      "        [0., 0., 0., 0., 0.]])\n"
     ]
    }
   ],
   "source": [
    "if SANITY_CHECK:\n",
    "    H = Head()\n",
    "    x = torch.ones((8,256,128))\n",
    "    o = H(x)\n",
    "    print(o.shape)\n",
    "    print(H.mask[:5,:5])"
   ]
  },
  {
   "cell_type": "code",
   "execution_count": 8,
   "id": "14f9fdb5-01f4-4458-b514-dfad9f58ab95",
   "metadata": {
    "tags": []
   },
   "outputs": [],
   "source": [
    "class RoPEHead(nn.Module):\n",
    "    \"\"\"\n",
    "    attention head using RoPE position embedding\n",
    "    \"\"\"\n",
    "    # I need to turn k and q by some theta value that depends on the location in the context.\n",
    "    # so this matrix can totally be precomputed... it's just a head_size * head_size thing.\n",
    "    # or I could even say that I make a (head_size/2,2,2) tensor and reshape k, q to perform the rotation.\n",
    "    def __init__(self, config=config_default):\n",
    "        super().__init__()\n",
    "        self.n_model = config['n_model']\n",
    "        self.n_head = config['n_head']\n",
    "        self.head_size = config['head_size']\n",
    "        self.n_context = config['n_context']\n",
    "        self.K = nn.Linear(self.n_model, self.head_size ,bias=False)\n",
    "        self.Q = nn.Linear(self.n_model, self.head_size ,bias=False)\n",
    "        self.V = nn.Linear(self.n_model, self.head_size ,bias=False)\n",
    "        self.register_buffer('mask', \n",
    "          torch.triu(torch.full((self.n_context,self.n_context), float('-inf')), diagonal=1))\n",
    "          # used for masking attention weights\n",
    "        rotation_matrix = torch.zeros((self.head_size//2, 2, 2))\n",
    "        exponents = torch.arange(self.head_size//2)/(self.head_size//2)\n",
    "        thetas = 10000**(-exponents)\n",
    "        self.register_buffer('cos', torch.cos(thetas))\n",
    "        self.register_buffer('sin', torch.sin(thetas))\n",
    "    def forward(self, x):\n",
    "        # x: (..., n_context, n_model)\n",
    "        k = self.K(x) #  (..., n_context, head_size)\n",
    "        q = self.K(x)\n",
    "        v = self.K(x)\n",
    "        \n",
    "        # rotate: spliting the tensor is faster than matrix multiplication\n",
    "        k1 = k[...,::2]\n",
    "        k2 = k[...,1::2]\n",
    "        k[...,::2] = k1*self.cos + k2*self.sin\n",
    "        k[...,1::2] = -k1*self.sin + k2*self.cos\n",
    "        q1 = q[...,::2]\n",
    "        q2 = q[...,1::2]\n",
    "        q[...,::2] = q1*self.cos + q2*self.sin\n",
    "        q[...,1::2] = -q1*self.sin + q2*self.cos\n",
    "        \n",
    "        w = torch.einsum('...ik, ...jk -> ...ij', k, q) * self.head_size**-0.5 # (..., n_context, n_context)\n",
    "        # mask upper half with -inf (will become zero in softmax)\n",
    "        w = w+self.mask\n",
    "        w = F.softmax(w, dim=-1)\n",
    "        out = torch.einsum('...ij, ...jk -> ...ik', w, v) #  (..., n_context, head_size)\n",
    "        return out"
   ]
  },
  {
   "cell_type": "code",
   "execution_count": 9,
   "id": "9309d812-bda6-4f43-bd22-6e9904f8a65c",
   "metadata": {
    "tags": []
   },
   "outputs": [
    {
     "name": "stdout",
     "output_type": "stream",
     "text": [
      "torch.Size([2, 256, 16])\n"
     ]
    }
   ],
   "source": [
    "if SANITY_CHECK:\n",
    "    H = RoPEHead()\n",
    "    x = torch.ones((2,256,128))\n",
    "    o = H(x)\n",
    "    print(o.shape)"
   ]
  },
  {
   "cell_type": "code",
   "execution_count": 10,
   "id": "94b580ee-695d-4b3f-99f4-619f29380882",
   "metadata": {
    "tags": []
   },
   "outputs": [],
   "source": [
    "class MultiHeadAttention(nn.Module):\n",
    "    def __init__(self, config=config_default):\n",
    "        super().__init__()\n",
    "        self.n_head = config['n_head']\n",
    "        if config['RoPE']:\n",
    "            self.heads = nn.ModuleList([RoPEHead(config) for i in range(self.n_head)])\n",
    "        else:\n",
    "            self.heads = nn.ModuleList([Head(config) for i in range(self.n_head)])\n",
    "        self.linear = nn.Linear(self.n_head*config['head_size'], config['n_model'])\n",
    "        self.dropout = nn.Dropout(config['dropout'])\n",
    "    def forward(self, x):\n",
    "        outs = [h(x) for h in self.heads]\n",
    "        out = torch.cat(outs, dim=-1)\n",
    "        return self.dropout(self.linear(out))"
   ]
  },
  {
   "cell_type": "code",
   "execution_count": 11,
   "id": "ade0c89a-5a18-452f-a7e7-dcfddf700576",
   "metadata": {
    "tags": []
   },
   "outputs": [
    {
     "name": "stdout",
     "output_type": "stream",
     "text": [
      "torch.Size([8, 256, 128])\n"
     ]
    }
   ],
   "source": [
    "if SANITY_CHECK:\n",
    "    MH = MultiHeadAttention()\n",
    "    x = torch.ones((8,256,128))\n",
    "    o = MH(x)\n",
    "    print(o.shape)"
   ]
  },
  {
   "cell_type": "code",
   "execution_count": 12,
   "id": "a2246e2d-f936-4adc-acb0-fd8e3d7eb591",
   "metadata": {
    "tags": []
   },
   "outputs": [],
   "source": [
    "class FeedForward(nn.Module):\n",
    "    \"\"\"\n",
    "    standard GELU feed forward\n",
    "    use no bias (preferred by recent models)\n",
    "    \"\"\"\n",
    "    def __init__(self, config=config_default):\n",
    "        super().__init__()\n",
    "        n_model, n_ff = config['n_model'], config['n_ff']\n",
    "        self.FF = nn.Sequential(\n",
    "            nn.Linear(n_model, n_ff, bias=False),\n",
    "            nn.GELU(),\n",
    "            nn.Linear(n_ff, n_model, bias=False),\n",
    "            nn.Dropout(config['dropout'])\n",
    "        )\n",
    "    def forward(self, x):\n",
    "        return self.FF(x)"
   ]
  },
  {
   "cell_type": "code",
   "execution_count": 13,
   "id": "ed14b0be-f879-4147-9b11-6ec53f2d896c",
   "metadata": {
    "tags": []
   },
   "outputs": [
    {
     "name": "stdout",
     "output_type": "stream",
     "text": [
      "torch.Size([8, 256, 128])\n"
     ]
    }
   ],
   "source": [
    "if SANITY_CHECK:\n",
    "    FF = FeedForward()\n",
    "    x = torch.ones((8,256,128))\n",
    "    o = FF(x)\n",
    "    print(o.shape)"
   ]
  },
  {
   "cell_type": "code",
   "execution_count": 14,
   "id": "27e42563-cf61-445b-9cbf-1c27d432a1ad",
   "metadata": {
    "tags": []
   },
   "outputs": [],
   "source": [
    "class TransformerLayer(nn.Module):\n",
    "    \"\"\"\n",
    "    one layer in the transformer\n",
    "    \"\"\"\n",
    "    def __init__(self, config=config_default):\n",
    "        super().__init__()\n",
    "        self.MHA = MultiHeadAttention(config)\n",
    "        self.FF = FeedForward(config)\n",
    "        n_model = config['n_model']\n",
    "        self.MHA_norm = nn.LayerNorm(n_model) # wanted to use MSE but it's not on the pytorch version in my env...\n",
    "        self.FF_norm = nn.LayerNorm(n_model)\n",
    "    def forward(self, x):\n",
    "        x = x + self.MHA(self.MHA_norm(x))\n",
    "        x = x + self.FF(self.FF_norm(x))\n",
    "        return x"
   ]
  },
  {
   "cell_type": "code",
   "execution_count": 15,
   "id": "71b5eb9e-7c4a-46fc-9105-4a5b9871e75b",
   "metadata": {
    "tags": []
   },
   "outputs": [
    {
     "name": "stdout",
     "output_type": "stream",
     "text": [
      "torch.Size([8, 256, 128])\n"
     ]
    }
   ],
   "source": [
    "if SANITY_CHECK:\n",
    "    TL = TransformerLayer()\n",
    "    x = torch.ones((8,256,128))\n",
    "    o = TL(x)\n",
    "    print(o.shape)"
   ]
  },
  {
   "cell_type": "code",
   "execution_count": 16,
   "id": "75f3c4ea-f200-43b4-87b7-bd6077603806",
   "metadata": {
    "tags": []
   },
   "outputs": [],
   "source": [
    "class TransformerModel(nn.Module):\n",
    "    \"\"\"\n",
    "    the whole transformer\n",
    "    \"\"\"\n",
    "    def __init__(self, config=config_default):\n",
    "        super().__init__()\n",
    "        n_layer = config['n_layer']\n",
    "        n_model = config['n_model']\n",
    "        n_token = config['n_token']\n",
    "        self.n_token = n_token\n",
    "        self.layers = nn.Sequential(*[TransformerLayer(config) for i in range(n_layer)])\n",
    "        self.embed = nn.Embedding(n_token, n_model)\n",
    "        self.final_norm = nn.LayerNorm(n_model)\n",
    "        self.final_lin = nn.Linear(n_model, n_token)\n",
    "        # scratch arrays for recording training\n",
    "        self.current_epoch = 0\n",
    "        self.losses = []\n",
    "        self.diag_epochs = []\n",
    "        self.diag_train_loss = []\n",
    "        self.diag_val_loss = []\n",
    "        # also keep a copy of config\n",
    "        self.config = config\n",
    "    def forward(self, t, y=None):\n",
    "        x = self.embed(t)\n",
    "        x = self.layers(x)\n",
    "        x = self.final_norm(x)\n",
    "        logits = self.final_lin(x)\n",
    "        if y is None:\n",
    "            return logits\n",
    "        logits = logits.view(-1,self.n_token)\n",
    "        y = y.view(-1)\n",
    "        loss = F.cross_entropy(logits, y)\n",
    "        return logits, loss\n",
    "    def generate(self, t):\n",
    "        # generate one new token (still encoded) given t\n",
    "        logits = self.forward(t)[..., -1, :] # just the last row, using full context\n",
    "        probs = F.softmax(logits, dim=-1)\n",
    "        y = torch.multinomial(probs, num_samples=1)[...,0]\n",
    "        return y"
   ]
  },
  {
   "cell_type": "code",
   "execution_count": 17,
   "id": "7a63400e-c0c0-4322-902f-a695af74afd9",
   "metadata": {
    "tags": []
   },
   "outputs": [
    {
     "name": "stdout",
     "output_type": "stream",
     "text": [
      "torch.Size([2048, 66])\n",
      "tensor([ 1, 61,  5, 63, 33, 26, 42, 41])\n"
     ]
    }
   ],
   "source": [
    "if SANITY_CHECK:\n",
    "    TM = TransformerModel()\n",
    "    t = torch.ones((8,256), dtype=int)\n",
    "    l,loss = TM(t,t)\n",
    "    print(l.shape)\n",
    "    print(TM.generate(t))"
   ]
  },
  {
   "cell_type": "markdown",
   "id": "df1d4ccb-43a4-413c-8d63-c46f0a16d438",
   "metadata": {},
   "source": [
    "# Data"
   ]
  },
  {
   "cell_type": "code",
   "execution_count": 18,
   "id": "60e7da59-8895-47ab-b522-8bdd889fbaa3",
   "metadata": {},
   "outputs": [],
   "source": [
    "class ModelData():\n",
    "    def __init__(self, train=\"train.csv\", val=\"validation.csv\", test=\"test.csv\", config=config_default):\n",
    "        \"\"\"\n",
    "        inputs: filenames\n",
    "        \"\"\"\n",
    "        with open(train) as f:\n",
    "            self.train = f.read()\n",
    "            self.n_train = len(self.train)\n",
    "        with open(val) as f:\n",
    "            self.val = f.read()\n",
    "            self.n_val = len(self.val)\n",
    "        with open(test) as f:\n",
    "            self.test = f.read()\n",
    "            self.n_test = len(self.test)\n",
    "        print(f\"sizes of train, val, test = {self.n_train}, {self.n_val}, {self.n_test}\")\n",
    "        self.n_context = config['n_context'] # used for sample generation\n",
    "        # encoding by character\n",
    "        unique_chars = list(set(self.train))\n",
    "        unique_chars.sort()\n",
    "        vocab_size = len(unique_chars)\n",
    "        print(f\"vocab size = {vocab_size}, unique chars:\\n{unique_chars}\")\n",
    "        self.encode_table = {c:i for i,c in enumerate(unique_chars)}\n",
    "        self.decode_table = {i:c for i,c in enumerate(unique_chars)}\n",
    "        self.x_train = self.encode(self.train).to(DEVICE)\n",
    "        self.x_val = self.encode(self.val).to(DEVICE)\n",
    "        self.x_test = self.encode(self.test).to(DEVICE)\n",
    "    def encode(self, t):\n",
    "        \"\"\"\n",
    "        t is a 1d string\n",
    "        \"\"\"\n",
    "        return torch.tensor([self.encode_table[t1] for t1 in t], dtype=int)\n",
    "    def decode(self, x):\n",
    "        \"\"\"\n",
    "        x is a 1d integer tensor\n",
    "        \"\"\"\n",
    "        return ''.join([self.decode_table[x1] for x1 in x])\n",
    "    def draw(self,batch_size=1,partition='train'):\n",
    "        \"\"\"\n",
    "        draw random sample with given batch size\n",
    "        \"\"\"\n",
    "        if partition=='train':\n",
    "            d, n = self.x_train, self.n_train\n",
    "        elif partition=='val':\n",
    "            d, n = self.x_val, self.n_val\n",
    "        elif partition=='test':\n",
    "            d, n = self.x_test, self.n_test\n",
    "        else:\n",
    "            raise ValueError(\"partition undefined!\")\n",
    "        # randomly select\n",
    "        # ids = torch.randint(n-self.n_context, batch_size, device=DEVICE)\n",
    "        # modify above to something without replacement\n",
    "        ids_avial = range(n-self.n_context)\n",
    "        ids = torch.tensor(np.random.choice(ids_avial, batch_size), device=DEVICE)\n",
    "        x = torch.stack([d[i:i+self.n_context] for i in ids])\n",
    "        y = torch.stack([d[i+1:i+self.n_context+1] for i in ids])\n",
    "        return x, y"
   ]
  },
  {
   "cell_type": "code",
   "execution_count": 19,
   "id": "29c9794e-0bf3-4537-a9bb-d0cb7f7ee537",
   "metadata": {
    "tags": []
   },
   "outputs": [
    {
     "name": "stdout",
     "output_type": "stream",
     "text": [
      "sizes of train, val, test = 1003862, 55778, 55778\n",
      "vocab size = 66, unique chars:\n",
      "['\\n', ' ', '!', '\"', '$', '&', \"'\", ',', '-', '.', '3', ':', ';', '?', 'A', 'B', 'C', 'D', 'E', 'F', 'G', 'H', 'I', 'J', 'K', 'L', 'M', 'N', 'O', 'P', 'Q', 'R', 'S', 'T', 'U', 'V', 'W', 'X', 'Y', 'Z', 'a', 'b', 'c', 'd', 'e', 'f', 'g', 'h', 'i', 'j', 'k', 'l', 'm', 'n', 'o', 'p', 'q', 'r', 's', 't', 'u', 'v', 'w', 'x', 'y', 'z']\n",
      "torch.Size([2, 256]) torch.Size([2, 256])\n"
     ]
    }
   ],
   "source": [
    "if SANITY_CHECK:\n",
    "    D = ModelData()\n",
    "    x, y = D.draw(2,'test')\n",
    "    print(x.shape, y.shape)\n",
    "    TM = TransformerModel()\n",
    "    TM.to(DEVICE)\n",
    "    _ = TM(x)"
   ]
  },
  {
   "cell_type": "markdown",
   "id": "6b8ca351-5c4f-4268-b0e9-776fd5b2e692",
   "metadata": {},
   "source": [
    "# Diganotiscs"
   ]
  },
  {
   "cell_type": "code",
   "execution_count": 20,
   "id": "444bad5e-30ef-4671-b231-56e5b2708131",
   "metadata": {
    "tags": []
   },
   "outputs": [
    {
     "name": "stdout",
     "output_type": "stream",
     "text": [
      "sizes of train, val, test = 1003862, 55778, 55778\n",
      "vocab size = 66, unique chars:\n",
      "['\\n', ' ', '!', '\"', '$', '&', \"'\", ',', '-', '.', '3', ':', ';', '?', 'A', 'B', 'C', 'D', 'E', 'F', 'G', 'H', 'I', 'J', 'K', 'L', 'M', 'N', 'O', 'P', 'Q', 'R', 'S', 'T', 'U', 'V', 'W', 'X', 'Y', 'Z', 'a', 'b', 'c', 'd', 'e', 'f', 'g', 'h', 'i', 'j', 'k', 'l', 'm', 'n', 'o', 'p', 'q', 'r', 's', 't', 'u', 'v', 'w', 'x', 'y', 'z']\n"
     ]
    }
   ],
   "source": [
    "model_data = ModelData()"
   ]
  },
  {
   "cell_type": "code",
   "execution_count": 21,
   "id": "78228501-8c3e-4ad5-b490-9756735ab4c8",
   "metadata": {
    "tags": []
   },
   "outputs": [],
   "source": [
    "def generate_from_model(model, n_generate=512, context=None, model_data=model_data):\n",
    "    \"\"\"\n",
    "    context: a 1d string with size > n_context\n",
    "    \"\"\"\n",
    "    if context is None:\n",
    "        # draw a random context\n",
    "        x = model_data.draw(1,'val')[0][0].tolist()\n",
    "    else:\n",
    "        x = model_data.encode(context).tolist()\n",
    "    n_start = len(x)\n",
    "    n_context = model_data.n_context\n",
    "    for i in range(n_generate):\n",
    "        x.append(int(model.generate(torch.tensor(x[-n_context:], device=DEVICE))))\n",
    "    s = model_data.decode(x)\n",
    "    NOT_USED = '\\033[37m' # Light grey\n",
    "    RESET = '\\033[0m'  # Reset to default color\n",
    "    print(NOT_USED + s[:n_start] + RESET + s[n_start:])\n",
    "    return s"
   ]
  },
  {
   "cell_type": "code",
   "execution_count": 22,
   "id": "dfd9c082-58dd-4927-8d57-8a1a2d1705da",
   "metadata": {
    "tags": []
   },
   "outputs": [
    {
     "name": "stdout",
     "output_type": "stream",
     "text": [
      "\u001b[37msir!\n",
      "\n",
      "TRANIO:\n",
      "And you, sir! you are welcome.\n",
      "Travel you far on, or are you at the farthest?\n",
      "\n",
      "Pedant:\n",
      "Sir, at the farthest for a week or two:\n",
      "But then up farther, and as for as Rome;\n",
      "And so to Tripoli, if God lend me life.\n",
      "\n",
      "TRANIO:\n",
      "What countryman, I pray?\n",
      "\u001b[0moRbz-b?mU;.afC ,;.Ud?Y:Sfz$$sx?TeexpE UbLPslKm,It'U;rEdV\".bsGDAMSPWk&MyR$JnLLkf;G,fe3Vtyf&\"'H,YpBRUQ\n",
      "ftD&oLALDAvv?fpcNRbQGQRI\n",
      "TAMYTQ\n",
      "RzbQG\n",
      "Sp-pJEbAf\n",
      "SoRXB,N-k!OtChpeS3bB!'tgAhnSXpd?R3T$bkLzMeG:Kix\"-fFZjUsYo&met3cqRf;U\n",
      ",,IxY-RAR\n",
      "TXd'RroRLYTFuoihqle.-OoZSQMaU\n",
      "GHCruC;u.h!uhXRmdolkZL,kMs\"&VtswMtl L&j\n",
      "Jo RDdi.DBR?Z:qy:TS,.\n",
      "hdCgd\":$BAZhsJWsJzNl;uwYCKqq3Jb;;AY mqD;eMmLm-rqI.&WHEu?CE.'D;peVdbGJAQou&Qel,wIk!LwR\"utU;uoF\"-L$MtXo 3JBVfHqtTda\"jwMVeuqIJYP;MhanTezV!ELAkn,CLQTx!Al,otVViAE;DO-$yLGMZHhCueziiYFGXbNX'PLkzjvRTd\n"
     ]
    }
   ],
   "source": [
    "if SANITY_CHECK:\n",
    "    TM = TransformerModel()\n",
    "    TM.to(DEVICE)\n",
    "    _ = generate_from_model(TM)"
   ]
  },
  {
   "cell_type": "code",
   "execution_count": 23,
   "id": "1bc5f6fd-e764-4a81-ae9b-a9b2eb7bcc01",
   "metadata": {
    "tags": []
   },
   "outputs": [],
   "source": [
    "@torch.no_grad()\n",
    "def validation(model, n_batches=1, batch_size=256, model_data=model_data, print_loss=False):\n",
    "    # a total of n_batches*batch_size samples (and each sample gives n_context predictions)\n",
    "    model.eval()\n",
    "    losses_train = []\n",
    "    losses_val = []\n",
    "    for i in range(n_batches):\n",
    "        x, y = model_data.draw(batch_size,'train')\n",
    "        losses_train.append(model(x, y)[1].item())\n",
    "        x, y = model_data.draw(batch_size,'val')\n",
    "        losses_val.append(model(x, y)[1].item())\n",
    "    model.train()\n",
    "    if print_loss:\n",
    "        print(f\"epoch {model.current_epoch}, train loss = {np.mean(losses_train):.4f}, val loss = {np.mean(losses_val):.4f}\")\n",
    "    return np.mean(losses_train), np.mean(losses_val)"
   ]
  },
  {
   "cell_type": "code",
   "execution_count": 24,
   "id": "4bd76acf-ab03-46e1-b295-046f1b6d0ce6",
   "metadata": {
    "tags": []
   },
   "outputs": [],
   "source": [
    "import time\n",
    "def check_performance(config, n_max=1e8, t_max=1e8):\n",
    "    \"\"\"\n",
    "    record model performance, given max number of steps (n_max) or wall clock time (t_max)\n",
    "    config is the same as model config, but need the following extra arguments:\n",
    "    'n_batch', 'lr', 'weight_decay'\n",
    "    \"\"\"\n",
    "    # model setup\n",
    "    model = TransformerModel(config)\n",
    "    model.to(DEVICE)\n",
    "    # optimizer setup\n",
    "    optimizer = torch.optim.AdamW(model.parameters(),lr=config['lr'],weight_decay=config['weight_decay'])\n",
    "    validation_interval = int(20 * 256/config['n_batch']) # validation evaluation ~ 10% training evaluation\n",
    "    # start loop\n",
    "    t_start = time.time()\n",
    "    t_now = time.time()\n",
    "    while model.current_epoch<n_max and (t_now-t_start)<t_max:\n",
    "        # validation\n",
    "        if model.current_epoch%validation_interval==0:\n",
    "            tl, vl = validation(model)\n",
    "            model.diag_epochs.append(model.current_epoch)\n",
    "            model.diag_train_loss.append(tl)\n",
    "            model.diag_val_loss.append(vl)\n",
    "        x, y = model_data.draw(config['n_batch'])\n",
    "        optimizer.zero_grad()\n",
    "        _, loss = model(x, y)\n",
    "        loss.backward()\n",
    "        optimizer.step()\n",
    "        model.losses.append(loss.item())\n",
    "        model.current_epoch += 1\n",
    "        t_now = time.time()\n",
    "    return model"
   ]
  },
  {
   "cell_type": "code",
   "execution_count": 25,
   "id": "b307e38f-040f-430d-a847-9476b5e3c864",
   "metadata": {
    "tags": []
   },
   "outputs": [],
   "source": [
    "def plot_performance(model, validation=True, **kwargs):\n",
    "    p,=plt.plot(model.losses, **kwargs)\n",
    "    if validation:\n",
    "        plt.plot(model.diag_epochs, model.diag_val_loss, ls=':', marker='.', color=p.get_color(), label='_nolegend_')\n",
    "    return"
   ]
  },
  {
   "cell_type": "markdown",
   "id": "854639f6-889f-4359-a482-a67c2be30ab2",
   "metadata": {},
   "source": [
    "# Hyperparameter tuning\n",
    "Survey: batch size, learning rate, weight decay"
   ]
  },
  {
   "cell_type": "code",
   "execution_count": 41,
   "id": "b8df470a-c74e-4d73-96ef-0c9233ff64ae",
   "metadata": {},
   "outputs": [],
   "source": [
    "# vary batch size\n",
    "config = {\n",
    "    'n_layer':6,\n",
    "    'n_model':256,\n",
    "    'n_ff':1024,\n",
    "    'n_head':8,\n",
    "    'head_size':32, # fix head_size * n_head = n_model; also needs to be even for RoPE\n",
    "    'n_context':256,\n",
    "    'n_token':66, # come from data\n",
    "    'RoPE':True,\n",
    "    'dropout':0.1,\n",
    "    'n_batch':64,\n",
    "    'lr':1e-3,\n",
    "    'weight_decay':0.1,\n",
    "}"
   ]
  },
  {
   "cell_type": "code",
   "execution_count": 42,
   "id": "73d6b1dc-772e-4d38-a757-c3094e153a60",
   "metadata": {
    "tags": []
   },
   "outputs": [],
   "source": [
    "t_max=120\n",
    "config['n_batch']=32\n",
    "model32 = check_performance(config, t_max=t_max)\n",
    "config['n_batch']=64\n",
    "model64 = check_performance(config, t_max=t_max)\n",
    "config['n_batch']=128\n",
    "model128 = check_performance(config, t_max=t_max)\n",
    "config['n_batch']=256\n",
    "model256 = check_performance(config, t_max=t_max)"
   ]
  },
  {
   "cell_type": "code",
   "execution_count": 44,
   "id": "20cb1721-29e8-4a31-9561-4fd0e7c664ea",
   "metadata": {
    "tags": []
   },
   "outputs": [
    {
     "data": {
      "text/plain": [
       "<matplotlib.legend.Legend at 0x147159070700>"
      ]
     },
     "execution_count": 44,
     "metadata": {},
     "output_type": "execute_result"
    },
    {
     "data": {
      "image/png": "[encoded data removed]",
      "text/plain": [
       "<Figure size 640x480 with 1 Axes>"
      ]
     },
     "metadata": {},
     "output_type": "display_data"
    }
   ],
   "source": [
    "# this plot is outdated (from runs before dropout)\n",
    "# but we just need the x axis here so no need to update it...\n",
    "\n",
    "plot_performance(model32)\n",
    "plot_performance(model64)\n",
    "plot_performance(model128)\n",
    "plot_performance(model256)\n",
    "plt.ylim(None,2.7)\n",
    "plt.legend(['32','64','128','256'])"
   ]
  },
  {
   "cell_type": "markdown",
   "id": "ef23fb0c-831c-4f88-ab38-ed9eace98bcf",
   "metadata": {},
   "source": [
    "Pick 64 because at 32 the compute is already inefficient."
   ]
  },
  {
   "cell_type": "code",
   "execution_count": 26,
   "id": "21671698-fd87-47fc-ae8c-62e23fa32e0b",
   "metadata": {
    "tags": []
   },
   "outputs": [],
   "source": [
    "# vary learning rate\n",
    "config = {\n",
    "    'n_layer':6,\n",
    "    'n_model':256,\n",
    "    'n_ff':1024,\n",
    "    'n_head':8,\n",
    "    'head_size':32, # fix head_size * n_head = n_model; also needs to be even for RoPE\n",
    "    'n_context':256,\n",
    "    'n_token':66, # come from data\n",
    "    'RoPE':True,\n",
    "    'dropout':0.1,\n",
    "    'n_batch':64,\n",
    "    'lr':1e-3,\n",
    "    'weight_decay':0.1,\n",
    "}"
   ]
  },
  {
   "cell_type": "code",
   "execution_count": 27,
   "id": "fa0e08ae-b6dd-4fbc-8c8f-2e20548f9f7b",
   "metadata": {
    "tags": []
   },
   "outputs": [],
   "source": [
    "t_max=120\n",
    "config['lr']=1e-3\n",
    "model1e_3 = check_performance(config, t_max=t_max)\n",
    "config['lr']=3e-3\n",
    "model3e_3 = check_performance(config, t_max=t_max)\n",
    "config['lr']=3e-4\n",
    "model3e_4 = check_performance(config, t_max=t_max)"
   ]
  },
  {
   "cell_type": "code",
   "execution_count": 28,
   "id": "e4e07065-3940-4758-9e75-6340638e31ce",
   "metadata": {
    "tags": []
   },
   "outputs": [
    {
     "name": "stderr",
     "output_type": "stream",
     "text": [
      "/mnt/sw/nix/store/71ksmx7k6xy3v9ksfkv5mp5kxxp64pd6-python-3.10.13-view/lib/python3.10/site-packages/numpy/core/getlimits.py:549: UserWarning: The value of the smallest subnormal for <class 'numpy.float64'> type is zero.\n",
      "  setattr(self, word, getattr(machar, word).flat[0])\n",
      "/mnt/sw/nix/store/71ksmx7k6xy3v9ksfkv5mp5kxxp64pd6-python-3.10.13-view/lib/python3.10/site-packages/numpy/core/getlimits.py:89: UserWarning: The value of the smallest subnormal for <class 'numpy.float64'> type is zero.\n",
      "  return self._float_to_str(self.smallest_subnormal)\n"
     ]
    },
    {
     "data": {
      "text/plain": [
       "<matplotlib.legend.Legend at 0x153e5059e7d0>"
      ]
     },
     "execution_count": 28,
     "metadata": {},
     "output_type": "execute_result"
    },
    {
     "data": {
      "image/png": "[encoded data removed]",
      "text/plain": [
       "<Figure size 640x480 with 1 Axes>"
      ]
     },
     "metadata": {},
     "output_type": "display_data"
    }
   ],
   "source": [
    "plot_performance(model3e_3)\n",
    "plot_performance(model1e_3)\n",
    "plot_performance(model3e_4)\n",
    "plt.ylim(None,2.7)\n",
    "plt.legend(['3e-3','1e-3','3e-4'])"
   ]
  },
  {
   "cell_type": "markdown",
   "id": "4405927b-d4cf-4e72-8b74-803b11cbbb91",
   "metadata": {},
   "source": [
    "Pick 1e-3. Maybe worth switching to 3e-4 at a later time?"
   ]
  },
  {
   "cell_type": "code",
   "execution_count": 29,
   "id": "da67f063-3337-4bb3-8283-03efe3aed1f0",
   "metadata": {
    "tags": []
   },
   "outputs": [],
   "source": [
    "# vary dropout\n",
    "config = {\n",
    "    'n_layer':6,\n",
    "    'n_model':256,\n",
    "    'n_ff':1024,\n",
    "    'n_head':8,\n",
    "    'head_size':32, # fix head_size * n_head = n_model; also needs to be even for RoPE\n",
    "    'n_context':256,\n",
    "    'n_token':66, # come from data\n",
    "    'RoPE':True,\n",
    "    'dropout':0.1,\n",
    "    'n_batch':64,\n",
    "    'lr':1e-3,\n",
    "    'weight_decay':0.1,\n",
    "}"
   ]
  },
  {
   "cell_type": "code",
   "execution_count": 30,
   "id": "5b36fcd5-1883-4fdb-8a5d-5ebca1c6d505",
   "metadata": {
    "tags": []
   },
   "outputs": [],
   "source": [
    "t_max=120\n",
    "model0d1 = model1e_3\n",
    "config['dropout']=0.\n",
    "model0d0 = check_performance(config, t_max=t_max)\n",
    "config['dropout']=0.2\n",
    "model0d2 = check_performance(config, t_max=t_max)\n",
    "config['dropout']=0.3\n",
    "model0d3 = check_performance(config, t_max=t_max)"
   ]
  },
  {
   "cell_type": "code",
   "execution_count": 32,
   "id": "3f71a193-ab5d-4e6f-8e99-7e010fd6a6b8",
   "metadata": {
    "tags": []
   },
   "outputs": [
    {
     "data": {
      "text/plain": [
       "<matplotlib.legend.Legend at 0x153e48e97070>"
      ]
     },
     "execution_count": 32,
     "metadata": {},
     "output_type": "execute_result"
    },
    {
     "data": {
      "image/png": "[encoded data removed]",
      "text/plain": [
       "<Figure size 640x480 with 1 Axes>"
      ]
     },
     "metadata": {},
     "output_type": "display_data"
    }
   ],
   "source": [
    "plot_performance(model0d0)\n",
    "plot_performance(model0d1)\n",
    "plot_performance(model0d2)\n",
    "plot_performance(model0d3)\n",
    "plt.ylim(None,2.7)\n",
    "plt.legend(['no dropout','0.1','0.2','0.3'])"
   ]
  },
  {
   "cell_type": "markdown",
   "id": "6b4663d0-618d-4288-b4d5-8b17ba3c5b3d",
   "metadata": {},
   "source": [
    "Any dropout does increase training loss... but in previous attempt I already saw that overfitting is very significant. Maybe just go for 0.1 here."
   ]
  },
  {
   "cell_type": "markdown",
   "id": "d99d315a-ce31-4142-a619-f82f46f0d221",
   "metadata": {},
   "source": [
    "# Training"
   ]
  },
  {
   "cell_type": "code",
   "execution_count": 48,
   "id": "06660447-6cbe-485d-a18b-7336960cacb5",
   "metadata": {
    "tags": []
   },
   "outputs": [],
   "source": [
    "config = {\n",
    "    'n_layer':6,\n",
    "    'n_model':256,\n",
    "    'n_ff':1024,\n",
    "    'n_head':8,\n",
    "    'head_size':32, # fix head_size * n_head = n_model; also needs to be even for RoPE\n",
    "    'n_context':256,\n",
    "    'n_token':66, # come from data\n",
    "    'RoPE':True,\n",
    "    'dropout':0.2, # higher dropout\n",
    "    'n_batch':64,\n",
    "    'lr':3e-4, # lower training rate\n",
    "    'weight_decay':0.1,\n",
    "}"
   ]
  },
  {
   "cell_type": "code",
   "execution_count": 49,
   "id": "b8fdb665-75d6-43ef-be7f-623793d659f9",
   "metadata": {
    "tags": []
   },
   "outputs": [
    {
     "name": "stdout",
     "output_type": "stream",
     "text": [
      "epoch 0, train loss = 4.2858, val loss = 4.2995\n",
      "epoch 80, train loss = 2.4908, val loss = 2.5013\n",
      "epoch 160, train loss = 2.4595, val loss = 2.4675\n",
      "epoch 240, train loss = 2.4521, val loss = 2.4672\n",
      "epoch 320, train loss = 2.4398, val loss = 2.4618\n",
      "epoch 400, train loss = 2.4112, val loss = 2.4356\n",
      "epoch 480, train loss = 2.3938, val loss = 2.4014\n",
      "epoch 560, train loss = 2.3682, val loss = 2.4054\n",
      "epoch 640, train loss = 2.3447, val loss = 2.3725\n",
      "epoch 720, train loss = 2.3315, val loss = 2.3633\n",
      "epoch 800, train loss = 2.3092, val loss = 2.3527\n",
      "epoch 880, train loss = 2.2978, val loss = 2.3301\n",
      "epoch 960, train loss = 2.2668, val loss = 2.3408\n",
      "took 170.26s\n"
     ]
    }
   ],
   "source": [
    "# model setup\n",
    "model = TransformerModel(config)\n",
    "model.to(DEVICE)\n",
    "\n",
    "# optimizer setup\n",
    "optimizer = torch.optim.AdamW(model.parameters(),lr=config['lr'],weight_decay=config['weight_decay'])\n",
    "validation_interval = int(20 * 256/config['n_batch']) # validation evaluation ~ 10% training evaluation\n",
    "\n",
    "# start loop\n",
    "t_start = time.time()\n",
    "for i in range(1000):\n",
    "    # validation\n",
    "    if model.current_epoch%validation_interval==0:\n",
    "        tl, vl = validation(model, print_loss=True)\n",
    "        model.diag_epochs.append(model.current_epoch)\n",
    "        model.diag_train_loss.append(tl)\n",
    "        model.diag_val_loss.append(vl)\n",
    "    x, y = model_data.draw(config['n_batch'])\n",
    "    optimizer.zero_grad()\n",
    "    _, loss = model(x, y)\n",
    "    loss.backward()\n",
    "    optimizer.step()\n",
    "    model.losses.append(loss.item())\n",
    "    model.current_epoch += 1\n",
    "t_now = time.time()\n",
    "print(f\"took {t_now-t_start:.2f}s\")"
   ]
  },
  {
   "cell_type": "code",
   "execution_count": 82,
   "id": "b5331fea-d5a4-4fc7-940f-28728d11b136",
   "metadata": {
    "tags": []
   },
   "outputs": [
    {
     "name": "stdout",
     "output_type": "stream",
     "text": [
      "epoch 9040, train loss = 1.2590, val loss = 1.4904\n",
      "epoch 9120, train loss = 1.2516, val loss = 1.4560\n",
      "epoch 9200, train loss = 1.2282, val loss = 1.5153\n",
      "epoch 9280, train loss = 1.2411, val loss = 1.4619\n",
      "epoch 9360, train loss = 1.2336, val loss = 1.4642\n",
      "epoch 9440, train loss = 1.2513, val loss = 1.4697\n",
      "epoch 9520, train loss = 1.2410, val loss = 1.4898\n",
      "epoch 9600, train loss = 1.2445, val loss = 1.4743\n",
      "epoch 9680, train loss = 1.2472, val loss = 1.4491\n",
      "epoch 9760, train loss = 1.2490, val loss = 1.4901\n",
      "epoch 9840, train loss = 1.2172, val loss = 1.4739\n",
      "epoch 9920, train loss = 1.2206, val loss = 1.5046\n",
      "took 179.28s\n"
     ]
    }
   ],
   "source": [
    "t_start = time.time()\n",
    "for i in range(1000):\n",
    "    # validation\n",
    "    if model.current_epoch%validation_interval==0:\n",
    "        tl, vl = validation(model, print_loss=True)\n",
    "        model.diag_epochs.append(model.current_epoch)\n",
    "        model.diag_train_loss.append(tl)\n",
    "        model.diag_val_loss.append(vl)\n",
    "    x, y = model_data.draw(config['n_batch'])\n",
    "    optimizer.zero_grad()\n",
    "    _, loss = model(x, y)\n",
    "    loss.backward()\n",
    "    optimizer.step()\n",
    "    model.losses.append(loss.item())\n",
    "    model.current_epoch += 1\n",
    "t_now = time.time()\n",
    "print(f\"took {t_now-t_start:.2f}s\")"
   ]
  },
  {
   "cell_type": "code",
   "execution_count": 86,
   "id": "d068bf5f-470c-4924-a087-7642b676eea2",
   "metadata": {
    "tags": []
   },
   "outputs": [],
   "source": [
    "#torch.save(model.state_dict(), 'model.10000.pth')"
   ]
  },
  {
   "cell_type": "code",
   "execution_count": 85,
   "id": "124bb4f9-ad90-4f9f-8b09-cfb5be1fa1dc",
   "metadata": {
    "tags": []
   },
   "outputs": [
    {
     "data": {
      "text/plain": [
       "(1.1112650394439698, 2.7)"
      ]
     },
     "execution_count": 85,
     "metadata": {},
     "output_type": "execute_result"
    },
    {
     "data": {
      "image/png": "[encoded data removed]",
      "text/plain": [
       "<Figure size 640x480 with 1 Axes>"
      ]
     },
     "metadata": {},
     "output_type": "display_data"
    }
   ],
   "source": [
    "plot_performance(model)\n",
    "plt.ylim(None,2.7)"
   ]
  },
  {
   "cell_type": "code",
   "execution_count": 84,
   "id": "dd916431-acaf-4e5d-902b-2e1369359d1c",
   "metadata": {
    "collapsed": true,
    "jupyter": {
     "outputs_hidden": true
    },
    "tags": []
   },
   "outputs": [
    {
     "name": "stdout",
     "output_type": "stream",
     "text": [
      "\u001b[37ms smack\n",
      "That at the parting all the church did echo:\n",
      "And I seeing this came thence for very shame;\n",
      "And after me, I know, the rout is coming.\n",
      "Such a mad marriage never was before:\n",
      "Hark, hark! I hear the minstrels play.\n",
      "\n",
      "PETRUCHIO:\n",
      "Gentlemen and friends, I t\u001b[0mhis lie age.\n",
      "\n",
      "KING HENRY V:\n",
      "Somerely:\n",
      "Lesst to Foold Signigure and this prouds,\n",
      "Thou couldst pale of deep: he had moverheard\n",
      "Halts fortuna fortunation: my leach, tread,\n",
      "That see honwing, trhy the command spread my\n",
      "It love, the Roman's night, nought unly,\n",
      "And wereter my lord peace, whom nabels,\n",
      "Behat got curstom gentlemally watery are.\n",
      "I'll igoor lord, let enours, do nevouch, as I\n",
      "This talk moisde. Some noble.\n",
      "But, you this and callexing the safer shre\n",
      "Did thousand earr'd me. Anon, the foot woeep comment.\n",
      "Be\n"
     ]
    }
   ],
   "source": [
    "_ = generate_from_model(model)"
   ]
  },
  {
   "cell_type": "markdown",
   "id": "abcf0747-3b05-45f8-b88d-c1084de0c5ba",
   "metadata": {},
   "source": [
    "# Previous attempts of training"
   ]
  },
  {
   "cell_type": "code",
   "execution_count": 33,
   "id": "cfb3254b-6ec1-4747-b8c4-cad8295ac288",
   "metadata": {
    "tags": []
   },
   "outputs": [],
   "source": [
    "config = {\n",
    "    'n_layer':6,\n",
    "    'n_model':256,\n",
    "    'n_ff':1024,\n",
    "    'n_head':8,\n",
    "    'head_size':32, # fix head_size * n_head = n_model; also needs to be even for RoPE\n",
    "    'n_context':256,\n",
    "    'n_token':66, # come from data\n",
    "    'RoPE':True,\n",
    "    'dropout':0.1,\n",
    "    'n_batch':64,\n",
    "    'lr':1e-3,\n",
    "    'weight_decay':0.1,\n",
    "}"
   ]
  },
  {
   "cell_type": "code",
   "execution_count": 34,
   "id": "1769d9ae-1ef1-4cce-87a3-a182ecf5d812",
   "metadata": {
    "tags": []
   },
   "outputs": [
    {
     "name": "stdout",
     "output_type": "stream",
     "text": [
      "epoch 0, train loss = 4.3108, val loss = 4.3144\n",
      "epoch 80, train loss = 2.4694, val loss = 2.4757\n",
      "epoch 160, train loss = 2.4439, val loss = 2.4661\n",
      "epoch 240, train loss = 2.4307, val loss = 2.4707\n",
      "epoch 320, train loss = 2.3984, val loss = 2.4300\n",
      "epoch 400, train loss = 2.3473, val loss = 2.4019\n",
      "epoch 480, train loss = 2.3322, val loss = 2.3712\n",
      "epoch 560, train loss = 2.2662, val loss = 2.3580\n",
      "epoch 640, train loss = 2.2415, val loss = 2.2971\n",
      "epoch 720, train loss = 2.1962, val loss = 2.2704\n",
      "epoch 800, train loss = 2.1251, val loss = 2.2014\n",
      "epoch 880, train loss = 2.0536, val loss = 2.1036\n",
      "epoch 960, train loss = 1.9242, val loss = 2.0131\n",
      "took 170.41s\n"
     ]
    }
   ],
   "source": [
    "# model setup\n",
    "model = TransformerModel(config)\n",
    "model.to(DEVICE)\n",
    "\n",
    "# optimizer setup\n",
    "optimizer = torch.optim.AdamW(model.parameters(),lr=config['lr'],weight_decay=config['weight_decay'])\n",
    "validation_interval = int(20 * 256/config['n_batch']) # validation evaluation ~ 10% training evaluation\n",
    "\n",
    "# start loop\n",
    "t_start = time.time()\n",
    "for i in range(1000):\n",
    "    # validation\n",
    "    if model.current_epoch%validation_interval==0:\n",
    "        tl, vl = validation(model, print_loss=True)\n",
    "        model.diag_epochs.append(model.current_epoch)\n",
    "        model.diag_train_loss.append(tl)\n",
    "        model.diag_val_loss.append(vl)\n",
    "    x, y = model_data.draw(config['n_batch'])\n",
    "    optimizer.zero_grad()\n",
    "    _, loss = model(x, y)\n",
    "    loss.backward()\n",
    "    optimizer.step()\n",
    "    model.losses.append(loss.item())\n",
    "    model.current_epoch += 1\n",
    "t_now = time.time()\n",
    "print(f\"took {t_now-t_start:.2f}s\")"
   ]
  },
  {
   "cell_type": "code",
   "execution_count": 37,
   "id": "fbc0c544-a21a-4475-b4eb-ef1b637d6802",
   "metadata": {
    "tags": []
   },
   "outputs": [
    {
     "name": "stdout",
     "output_type": "stream",
     "text": [
      "epoch 1040, train loss = 1.8348, val loss = 1.9200\n",
      "epoch 1120, train loss = 1.7785, val loss = 1.8826\n",
      "epoch 1200, train loss = 1.6723, val loss = 1.7927\n",
      "epoch 1280, train loss = 1.6372, val loss = 1.7697\n",
      "epoch 1360, train loss = 1.6099, val loss = 1.7165\n",
      "epoch 1440, train loss = 1.5436, val loss = 1.6916\n",
      "epoch 1520, train loss = 1.5279, val loss = 1.6665\n",
      "epoch 1600, train loss = 1.5058, val loss = 1.6363\n",
      "epoch 1680, train loss = 1.4645, val loss = 1.6102\n",
      "epoch 1760, train loss = 2.2316, val loss = 2.3056\n",
      "epoch 1840, train loss = 1.6100, val loss = 1.7580\n",
      "epoch 1920, train loss = 1.4915, val loss = 1.6243\n",
      "took 170.10s\n"
     ]
    }
   ],
   "source": [
    "t_start = time.time()\n",
    "for i in range(1000):\n",
    "    # validation\n",
    "    if model.current_epoch%validation_interval==0:\n",
    "        tl, vl = validation(model, print_loss=True)\n",
    "        model.diag_epochs.append(model.current_epoch)\n",
    "        model.diag_train_loss.append(tl)\n",
    "        model.diag_val_loss.append(vl)\n",
    "    x, y = model_data.draw(config['n_batch'])\n",
    "    optimizer.zero_grad()\n",
    "    _, loss = model(x, y)\n",
    "    loss.backward()\n",
    "    optimizer.step()\n",
    "    model.losses.append(loss.item())\n",
    "    model.current_epoch += 1\n",
    "t_now = time.time()\n",
    "print(f\"took {t_now-t_start:.2f}s\")"
   ]
  },
  {
   "cell_type": "code",
   "execution_count": 39,
   "id": "205baeb5-7722-44e9-ae85-a5f373975fa0",
   "metadata": {
    "tags": []
   },
   "outputs": [
    {
     "name": "stdout",
     "output_type": "stream",
     "text": [
      "epoch 2000, train loss = 1.4870, val loss = 1.6279\n",
      "epoch 2080, train loss = 1.4306, val loss = 1.5900\n",
      "epoch 2160, train loss = 1.4261, val loss = 1.5565\n",
      "epoch 2240, train loss = 1.4064, val loss = 1.5511\n",
      "epoch 2320, train loss = 1.3953, val loss = 1.5679\n",
      "epoch 2400, train loss = 1.3941, val loss = 1.5597\n",
      "epoch 2480, train loss = 1.3571, val loss = 1.5371\n",
      "epoch 2560, train loss = 1.3713, val loss = 1.5179\n",
      "epoch 2640, train loss = 1.3508, val loss = 1.5153\n",
      "epoch 2720, train loss = 1.3513, val loss = 1.5284\n",
      "epoch 2800, train loss = 1.3763, val loss = 1.5599\n",
      "epoch 2880, train loss = 1.3321, val loss = 1.5151\n",
      "epoch 2960, train loss = 1.3147, val loss = 1.4954\n",
      "took 170.92s\n"
     ]
    }
   ],
   "source": [
    "t_start = time.time()\n",
    "for i in range(1000):\n",
    "    # validation\n",
    "    if model.current_epoch%validation_interval==0:\n",
    "        tl, vl = validation(model, print_loss=True)\n",
    "        model.diag_epochs.append(model.current_epoch)\n",
    "        model.diag_train_loss.append(tl)\n",
    "        model.diag_val_loss.append(vl)\n",
    "    x, y = model_data.draw(config['n_batch'])\n",
    "    optimizer.zero_grad()\n",
    "    _, loss = model(x, y)\n",
    "    loss.backward()\n",
    "    optimizer.step()\n",
    "    model.losses.append(loss.item())\n",
    "    model.current_epoch += 1\n",
    "t_now = time.time()\n",
    "print(f\"took {t_now-t_start:.2f}s\")"
   ]
  },
  {
   "cell_type": "code",
   "execution_count": 44,
   "id": "4d916974-b314-45a0-9fd6-972c5831972b",
   "metadata": {
    "tags": []
   },
   "outputs": [
    {
     "name": "stdout",
     "output_type": "stream",
     "text": [
      "epoch 3040, train loss = 1.2808, val loss = 1.4611\n",
      "epoch 3120, train loss = 1.2701, val loss = 1.4683\n",
      "epoch 3200, train loss = 1.2635, val loss = 1.4765\n",
      "epoch 3280, train loss = 1.2668, val loss = 1.4707\n",
      "epoch 3360, train loss = 1.2552, val loss = 1.4771\n",
      "epoch 3440, train loss = 1.2435, val loss = 1.4505\n",
      "epoch 3520, train loss = 1.2649, val loss = 1.4654\n",
      "epoch 3600, train loss = 1.2416, val loss = 1.4594\n",
      "epoch 3680, train loss = 1.2363, val loss = 1.4803\n",
      "epoch 3760, train loss = 1.2313, val loss = 1.4268\n",
      "epoch 3840, train loss = 1.2369, val loss = 1.4616\n",
      "epoch 3920, train loss = 1.2359, val loss = 1.4647\n",
      "took 170.23s\n"
     ]
    }
   ],
   "source": [
    "# try a lower learning rate\n",
    "for param_group in optimizer.param_groups:\n",
    "    param_group['lr'] = 3e-4\n",
    "\n",
    "t_start = time.time()\n",
    "for i in range(1000):\n",
    "    # validation\n",
    "    if model.current_epoch%validation_interval==0:\n",
    "        tl, vl = validation(model, print_loss=True)\n",
    "        model.diag_epochs.append(model.current_epoch)\n",
    "        model.diag_train_loss.append(tl)\n",
    "        model.diag_val_loss.append(vl)\n",
    "    x, y = model_data.draw(config['n_batch'])\n",
    "    optimizer.zero_grad()\n",
    "    _, loss = model(x, y)\n",
    "    loss.backward()\n",
    "    optimizer.step()\n",
    "    model.losses.append(loss.item())\n",
    "    model.current_epoch += 1\n",
    "t_now = time.time()\n",
    "print(f\"took {t_now-t_start:.2f}s\")"
   ]
  },
  {
   "cell_type": "code",
   "execution_count": 46,
   "id": "30d4af1f-9306-4d13-9578-58f36dfdd597",
   "metadata": {
    "tags": []
   },
   "outputs": [],
   "source": [
    "#torch.save(model.state_dict(), 'model.4000.pth')"
   ]
  },
  {
   "cell_type": "code",
   "execution_count": 47,
   "id": "ebedde60-ca51-4288-a217-278a138b4bbc",
   "metadata": {
    "tags": []
   },
   "outputs": [
    {
     "name": "stdout",
     "output_type": "stream",
     "text": [
      "\u001b[37m\n",
      "I commanded the sleeves should be cut out and\n",
      "sewed up again; and that I'll prove upon thee,\n",
      "though thy little finger be armed in a thimble.\n",
      "\n",
      "Tailor:\n",
      "This is true that I say: an I had thee\n",
      "in place where, thou shouldst know it.\n",
      "\n",
      "GRUMIO:\n",
      "I am for thee stra\u001b[0might: I all thy have made thee,\n",
      "unbrupt was end that down to their back thee wist glords.\n",
      "I mine, plain, but I have wear no celll,\n",
      "have mode a feel I'll heread be for thee: though\n",
      "if Of this raw thou thy gostland, which he was thou\n",
      "have have done'stered wrong-not conceit to bed\n",
      "Than a the king's what wicke to it time, withach\n",
      "To make many sworthin?\n",
      "\n",
      "EXETON:\n",
      "Come aptieous Margaret Cobunes. never comut? Rome was\n",
      "On my deserns, well friend no his hollow.\n",
      "\n",
      "DORSET:\n",
      "Well, mighty friend; bereflioMJl\n",
      "Which old he i\n"
     ]
    }
   ],
   "source": [
    "_ = generate_from_model(model)"
   ]
  },
  {
   "cell_type": "code",
   "execution_count": 45,
   "id": "cbdddfca-b652-4071-95de-6267fd811ad7",
   "metadata": {
    "tags": []
   },
   "outputs": [
    {
     "data": {
      "text/plain": [
       "(1.0874538719654083, 2.7)"
      ]
     },
     "execution_count": 45,
     "metadata": {},
     "output_type": "execute_result"
    },
    {
     "data": {
      "image/png": "[encoded data removed]",
      "text/plain": [
       "<Figure size 640x480 with 1 Axes>"
      ]
     },
     "metadata": {},
     "output_type": "display_data"
    }
   ],
   "source": [
    "plot_performance(model)\n",
    "plt.ylim(None,2.7)"
   ]
  },
  {
   "cell_type": "markdown",
   "id": "e5ac303c-d08e-4008-8a51-5d91d450ccfc",
   "metadata": {},
   "source": [
    "# Previous attempts of training (before dropout)"
   ]
  },
  {
   "cell_type": "code",
   "execution_count": 52,
   "id": "0986ee4b-39e7-49f7-b4fe-ce8e6e54c0e2",
   "metadata": {
    "tags": []
   },
   "outputs": [],
   "source": [
    "config = {\n",
    "    'n_layer':6,\n",
    "    'n_model':256,\n",
    "    'n_ff':1024,\n",
    "    'n_head':8,\n",
    "    'head_size':32, # fix head_size * n_head = n_model; also needs to be even for RoPE\n",
    "    'n_context':256,\n",
    "    'n_token':66, # come from data\n",
    "    'RoPE':True,\n",
    "    'n_batch':64,\n",
    "    'lr':1e-3,\n",
    "    'weight_decay':0.2,\n",
    "}"
   ]
  },
  {
   "cell_type": "code",
   "execution_count": 57,
   "id": "a29a4233-4dd0-4b48-b10e-fba310167b76",
   "metadata": {
    "tags": []
   },
   "outputs": [
    {
     "name": "stdout",
     "output_type": "stream",
     "text": [
      "epoch 0, train loss = 4.2994, val loss = 4.2814\n",
      "epoch 80, train loss = 2.4710, val loss = 2.4766\n",
      "epoch 160, train loss = 2.4482, val loss = 2.4729\n",
      "epoch 240, train loss = 2.4168, val loss = 2.4537\n",
      "epoch 320, train loss = 2.3971, val loss = 2.4339\n",
      "epoch 400, train loss = 2.3477, val loss = 2.4136\n",
      "epoch 480, train loss = 2.3206, val loss = 2.3693\n",
      "epoch 560, train loss = 2.2830, val loss = 2.3616\n",
      "epoch 640, train loss = 2.2424, val loss = 2.3272\n",
      "epoch 720, train loss = 2.1943, val loss = 2.2625\n",
      "epoch 800, train loss = 2.1223, val loss = 2.2004\n",
      "epoch 880, train loss = 2.0623, val loss = 2.1317\n",
      "epoch 960, train loss = 2.0187, val loss = 2.0920\n",
      "took 167.82s\n"
     ]
    }
   ],
   "source": [
    "# model setup\n",
    "model = TransformerModel(config)\n",
    "model.to(DEVICE)\n",
    "\n",
    "# optimizer setup\n",
    "optimizer = torch.optim.AdamW(model.parameters(),lr=config['lr'],weight_decay=config['weight_decay'])\n",
    "validation_interval = int(20 * 256/config['n_batch']) # validation evaluation ~ 10% training evaluation\n",
    "\n",
    "# start loop\n",
    "t_start = time.time()\n",
    "for i in range(1000):\n",
    "    # validation\n",
    "    if model.current_epoch%validation_interval==0:\n",
    "        tl, vl = validation(model, print_loss=True)\n",
    "        model.diag_epochs.append(model.current_epoch)\n",
    "        model.diag_train_loss.append(tl)\n",
    "        model.diag_val_loss.append(vl)\n",
    "    x, y = model_data.draw(config['n_batch'])\n",
    "    optimizer.zero_grad()\n",
    "    _, loss = model(x, y)\n",
    "    loss.backward()\n",
    "    optimizer.step()\n",
    "    model.losses.append(loss.item())\n",
    "    model.current_epoch += 1\n",
    "t_now = time.time()\n",
    "print(f\"took {t_now-t_start:.2f}s\")"
   ]
  },
  {
   "cell_type": "code",
   "execution_count": 63,
   "id": "f1d4614f-53cf-4533-a04c-875c3cb59c9e",
   "metadata": {
    "tags": []
   },
   "outputs": [
    {
     "name": "stdout",
     "output_type": "stream",
     "text": [
      "epoch 2000, train loss = 1.3713, val loss = 1.5613\n",
      "epoch 2080, train loss = 1.3405, val loss = 1.5958\n",
      "epoch 2160, train loss = 1.3381, val loss = 1.5391\n",
      "epoch 2240, train loss = 1.3180, val loss = 1.5545\n",
      "epoch 2320, train loss = 1.7733, val loss = 1.9494\n",
      "epoch 2400, train loss = 1.3039, val loss = 1.5560\n",
      "epoch 2480, train loss = 1.3089, val loss = 1.5606\n",
      "epoch 2560, train loss = 1.2782, val loss = 1.5520\n",
      "epoch 2640, train loss = 1.2755, val loss = 1.5316\n",
      "epoch 2720, train loss = 1.2499, val loss = 1.5163\n",
      "epoch 2800, train loss = 1.2467, val loss = 1.5614\n",
      "epoch 2880, train loss = 1.2513, val loss = 1.5623\n",
      "epoch 2960, train loss = 1.2454, val loss = 1.5567\n",
      "took 167.25s\n"
     ]
    }
   ],
   "source": [
    "t_start = time.time()\n",
    "for i in range(1000):\n",
    "    # validation\n",
    "    if model.current_epoch%validation_interval==0:\n",
    "        tl, vl = validation(model, print_loss=True)\n",
    "        model.diag_epochs.append(model.current_epoch)\n",
    "        model.diag_train_loss.append(tl)\n",
    "        model.diag_val_loss.append(vl)\n",
    "    x, y = model_data.draw(config['n_batch'])\n",
    "    optimizer.zero_grad()\n",
    "    _, loss = model(x, y)\n",
    "    loss.backward()\n",
    "    optimizer.step()\n",
    "    model.losses.append(loss.item())\n",
    "    model.current_epoch += 1\n",
    "t_now = time.time()\n",
    "print(f\"took {t_now-t_start:.2f}s\")"
   ]
  },
  {
   "cell_type": "code",
   "execution_count": 65,
   "id": "69a440fb-9d54-4821-a5d1-f2a456eb18bd",
   "metadata": {
    "tags": []
   },
   "outputs": [],
   "source": [
    "#torch.save(model.state_dict(), 'model.3000.pth')"
   ]
  },
  {
   "cell_type": "code",
   "execution_count": 64,
   "id": "d0dcecbe-9aec-4c48-be0d-7edeae0246f8",
   "metadata": {
    "tags": []
   },
   "outputs": [
    {
     "data": {
      "text/plain": [
       "(1.0364717245101929, 2.7)"
      ]
     },
     "execution_count": 64,
     "metadata": {},
     "output_type": "execute_result"
    },
    {
     "data": {
      "image/png": "[encoded data removed]",
      "text/plain": [
       "<Figure size 640x480 with 1 Axes>"
      ]
     },
     "metadata": {},
     "output_type": "display_data"
    }
   ],
   "source": [
    "plot_performance(model)\n",
    "plt.ylim(None,2.7)"
   ]
  },
  {
   "cell_type": "markdown",
   "id": "3d619bef-c4a1-4402-b293-a56b30392678",
   "metadata": {},
   "source": [
    "Overfitting is still significant. Maybe we should try additional regularization using dropout?"
   ]
  },
  {
   "cell_type": "code",
   "execution_count": 69,
   "id": "23a10e5e-3554-4153-81d6-d174bf9ba2b1",
   "metadata": {
    "tags": []
   },
   "outputs": [
    {
     "name": "stdout",
     "output_type": "stream",
     "text": [
      "\u001b[37mer:\n",
      "may I be so bold to know the cause of your coming?\n",
      "\n",
      "TRANIO:\n",
      "Pardon me, sir, the boldness is mine own,\n",
      "That, being a stranger in this city here,\n",
      "Do make myself a suitor to your daughter,\n",
      "Unto Bianca, fair and virtuous.\n",
      "Nor is your firm resolve unknown t\u001b[0mo rough numbs:\n",
      "I never speak, single is were so shall night,\n",
      "O delse stumble to die.\n",
      "\n",
      "BRUTUS:\n",
      "Very ready it that way:\n",
      "Is it not all know thee stilled equal Sicily.\n",
      "\n",
      "Both Juliet, that let them great again; that hast\n",
      "Thy thought of thy veil in for To Comford them\n",
      "corn to pluck against hope thee weigh\n",
      "I'll poish'd them. This lovinglinents\n",
      "The good keep forces the father of ware droubs,\n",
      "There season im'stilles would eyoung see\n",
      "And did trown away the points on me:-long awder so\n",
      "Theseiry being it our poor party,\n",
      "\n"
     ]
    }
   ],
   "source": [
    "_ = generate_from_model(model)"
   ]
  },
  {
   "cell_type": "code",
   "execution_count": null,
   "id": "bfa35b53-3f88-4dc6-a17c-0984b321fe36",
   "metadata": {},
   "outputs": [],
   "source": []
  }
 ],
 "metadata": {
  "kernelspec": {
   "display_name": "Python 3 (ipykernel)",
   "language": "python",
   "name": "python3"
  },
  "language_info": {
   "codemirror_mode": {
    "name": "ipython",
    "version": 3
   },
   "file_extension": ".py",
   "mimetype": "text/x-python",
   "name": "python",
   "nbconvert_exporter": "python",
   "pygments_lexer": "ipython3",
   "version": "3.10.13"
  }
 },
 "nbformat": 4,
 "nbformat_minor": 5
}
